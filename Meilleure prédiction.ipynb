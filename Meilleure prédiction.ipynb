{
 "cells": [
  {
   "cell_type": "code",
   "execution_count": 9,
   "id": "57e3bc26-da76-4360-a402-395f4e77b6ea",
   "metadata": {},
   "outputs": [],
   "source": [
    "import pandas as pd\n",
    "import numpy as np\n",
    "import matplotlib.pyplot as plt\n",
    "import seaborn as sns\n",
    "from scipy.stats import linregress"
   ]
  },
  {
   "cell_type": "code",
   "execution_count": 3,
   "id": "6b9ff66a-d7fa-4be4-8b37-4375dda5607e",
   "metadata": {},
   "outputs": [
    {
     "name": "stdout",
     "output_type": "stream",
     "text": [
      "Collecting openpyxl\n",
      "  Downloading openpyxl-3.1.2-py2.py3-none-any.whl (249 kB)\n",
      "\u001b[2K     \u001b[90m━━━━━━━━━━━━━━━━━━━━━━━━━━━━━━━━━━━━━━━\u001b[0m \u001b[32m250.0/250.0 kB\u001b[0m \u001b[31m2.1 MB/s\u001b[0m eta \u001b[36m0:00:00\u001b[0m00:01\u001b[0m00:01\u001b[0m\n",
      "\u001b[?25hCollecting et-xmlfile (from openpyxl)\n",
      "  Downloading et_xmlfile-1.1.0-py3-none-any.whl (4.7 kB)\n",
      "Installing collected packages: et-xmlfile, openpyxl\n",
      "Successfully installed et-xmlfile-1.1.0 openpyxl-3.1.2\n"
     ]
    }
   ],
   "source": [
    "!pip install openpyxl"
   ]
  },
  {
   "cell_type": "code",
   "execution_count": 4,
   "id": "7c288ef2-a696-4cc6-8ac1-e030a96ef626",
   "metadata": {},
   "outputs": [],
   "source": [
    "# Chargement de toutes les données\n",
    "file_path = \"data/database-imputed ESG.xlsx\"\n",
    "all_data = pd.read_excel(file_path)"
   ]
  },
  {
   "cell_type": "code",
   "execution_count": 8,
   "id": "155c9291-360c-4293-9d25-fae1e883501b",
   "metadata": {},
   "outputs": [],
   "source": [
    "# Variables disponibles\n",
    "variables = [\"market_cap\", \"employees\", \"revenue\", \"scope_1\", \"scope_2\", \"scope_3\",\n",
    "                         \"waste_production\", \"waste_recycling\", \"water_consumption\",\n",
    "                         \"water_withdrawal\", \"energy_consumption\", \"hours_of_training\",\n",
    "                         \"gender_pay_gap\", \"independent_board_members_percentage\",\n",
    "                         \"legal_costs_paid_for_controversies\", \"ceo_compensation\"]\n",
    "\n",
    "variables_env = [\"scope_1\", \"scope_2\", \"scope_3\",\n",
    "                \"waste_production\", \"waste_recycling\", \"water_consumption\",\n",
    "                \"water_withdrawal\", \"energy_consumption\"]\n",
    "\n",
    "variables_eg = [\"hours_of_training\",\"gender_pay_gap\", \"independent_board_members_percentage\",\n",
    "                \"legal_costs_paid_for_controversies\", \"ceo_compensation\"]\n",
    "\n",
    "# Années \n",
    "annees = [\"2018\", \"2019\", \"2020\"]\n",
    "\n",
    "# Regions \n",
    "regions = [\"Africa / Middle East\", \"Asia / Pacific\", \"Europe\", \n",
    "           \"Latin America and Caribbean\", \"United States and Canada\"]\n",
    "\n",
    "# Secteurs \n",
    "secteurs = all_data['primary_industry'].unique()"
   ]
  },
  {
   "cell_type": "code",
   "execution_count": 12,
   "id": "23d3116f-c8c1-47b4-9443-93f65e6da52a",
   "metadata": {},
   "outputs": [
    {
     "name": "stdout",
     "output_type": "stream",
     "text": [
      "['scope_2', 'gender_pay_gap', '2019', 'Asia / Pacific', 'Integrated Oil and Gas'] 0.8293546708823886\n"
     ]
    },
    {
     "name": "stderr",
     "output_type": "stream",
     "text": [
      "/tmp/ipykernel_261/3238545959.py:7: RankWarning: Polyfit may be poorly conditioned\n",
      "  model = np.polyfit(data[x], data[y], 1)\n",
      "/opt/mamba/lib/python3.10/site-packages/scipy/stats/_stats_mstats_common.py:182: RuntimeWarning: invalid value encountered in scalar divide\n",
      "  slope = ssxym / ssxm\n",
      "/opt/mamba/lib/python3.10/site-packages/scipy/stats/_stats_mstats_common.py:196: RuntimeWarning: invalid value encountered in sqrt\n",
      "  t = r * np.sqrt(df / ((1.0 - r + TINY)*(1.0 + r + TINY)))\n",
      "/opt/mamba/lib/python3.10/site-packages/scipy/stats/_stats_mstats_common.py:199: RuntimeWarning: invalid value encountered in scalar divide\n",
      "  slope_stderr = np.sqrt((1 - r**2) * ssym / ssxm / df)\n"
     ]
    }
   ],
   "source": [
    "max = 0\n",
    "max_var = [\"\", \"\", \"\", \"\", \"\"]\n",
    "\n",
    "#for x in variables_env, y in variables_eg, a in annees, r in regions, s in secteurs :\n",
    "for x, y, a, r, s in zip(variables_env, variables_eg, annees, regions, secteurs) :\n",
    "    data = pd.DataFrame(all_data[(all_data[\"year\"] == int(a)) & (all_data[\"primary_industry\"] == s) & (all_data[\"region\"] == r)])\n",
    "    model = np.polyfit(data[x], data[y], 1)\n",
    "    slope, intercept, r_value, p_value, std_err = linregress(data[x], data[y])\n",
    "    r_squared = r_value ** 2\n",
    "    if r_squared > max :\n",
    "        max_var = [x, y, a, r, s]\n",
    "        max = r_squared\n",
    "\n",
    "print(max_var, max)"
   ]
  },
  {
   "cell_type": "code",
   "execution_count": null,
   "id": "35d814b9-1df2-4b8f-8cef-c5da9eba51d6",
   "metadata": {},
   "outputs": [],
   "source": []
  }
 ],
 "metadata": {
  "kernelspec": {
   "display_name": "Python 3 (ipykernel)",
   "language": "python",
   "name": "python3"
  },
  "language_info": {
   "codemirror_mode": {
    "name": "ipython",
    "version": 3
   },
   "file_extension": ".py",
   "mimetype": "text/x-python",
   "name": "python",
   "nbconvert_exporter": "python",
   "pygments_lexer": "ipython3",
   "version": "3.10.13"
  }
 },
 "nbformat": 4,
 "nbformat_minor": 5
}
