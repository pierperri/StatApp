{
 "cells": [
  {
   "cell_type": "code",
   "execution_count": 1,
   "id": "16bc2100-2837-4cd1-a419-a175d51cb8f8",
   "metadata": {},
   "outputs": [
    {
     "name": "stdout",
     "output_type": "stream",
     "text": [
      "Requirement already satisfied: openpyxl in /opt/mamba/lib/python3.11/site-packages (3.1.2)\n",
      "Requirement already satisfied: et-xmlfile in /opt/mamba/lib/python3.11/site-packages (from openpyxl) (1.1.0)\n"
     ]
    }
   ],
   "source": [
    "!pip install openpyxl"
   ]
  },
  {
   "cell_type": "code",
   "execution_count": 2,
   "id": "fea57454-2027-4598-bd15-c240b7253868",
   "metadata": {},
   "outputs": [],
   "source": [
    "import pandas as pd\n",
    "import numpy as np\n",
    "import statsmodels.api as sm\n",
    "from statsmodels.sandbox.regression.gmm import IV2SLS"
   ]
  },
  {
   "cell_type": "code",
   "execution_count": 22,
   "id": "1e1ecd48-48c7-4caf-b8d0-fc7c1e216852",
   "metadata": {},
   "outputs": [],
   "source": [
    "file_path = \"data/ESG_raw_data_07_02.xlsx\"\n",
    "file_sect = \"data/secteurs.csv\"\n",
    "corresp_secteurs = pd.read_csv(file_sect, sep=\";\")\n",
    "data = pd.read_excel(file_path)\n",
    "data = data.join(corresp_secteurs.set_index('primary_industry'), on = \"primary_industry\")"
   ]
  },
  {
   "cell_type": "code",
   "execution_count": 23,
   "id": "68445135-ef47-415d-bc35-8b46a19ee78d",
   "metadata": {},
   "outputs": [],
   "source": [
    "secteurs = pd.unique(data[\"secteur\"])"
   ]
  },
  {
   "cell_type": "code",
   "execution_count": 24,
   "id": "9e236b74-972c-4f3d-a332-5d16203490ef",
   "metadata": {},
   "outputs": [],
   "source": [
    "variables_env = [\"scope_1\", \"scope_2\", \"scope_3\", \"waste_production\", \"waste_recycling\", \n",
    "                 \"water_consumption\", \"water_withdrawal\", \"energy_consumption\"]\n",
    "\n",
    "data = data.dropna(subset = [\"employees\"])\n",
    "data = data.loc[data[\"employees\"] != 0]\n",
    "for v in variables_env :\n",
    "    data[v] = data[v]/data[\"employees\"]"
   ]
  },
  {
   "cell_type": "code",
   "execution_count": 40,
   "id": "94b58bf2-c54d-4dbf-b804-d3cc187af524",
   "metadata": {},
   "outputs": [],
   "source": [
    "variables_num = [\"market_cap\", \"employees\", \"revenue\", \"scope_1\", \"scope_2\", \"scope_3\",\n",
    "                         \"waste_production\", \"waste_recycling\", \"water_consumption\",\n",
    "                         \"water_withdrawal\", \"energy_consumption\", \"hours_of_training\",\n",
    "                         \"gender_pay_gap\", \"independent_board_members_percentage\",\n",
    "                         \"legal_costs_paid_for_controversies\", \"ceo_compensation\"]\n",
    "\n",
    "for v in variables_num :\n",
    "    data[v] = pd.to_numeric(data[v])"
   ]
  },
  {
   "cell_type": "markdown",
   "id": "1bda3b3b-76b0-40ef-ba84-9cfea13427c8",
   "metadata": {},
   "source": [
    "## Modèle Tobit de type 2"
   ]
  },
  {
   "cell_type": "code",
   "execution_count": 69,
   "id": "a41c8964-44b6-41a6-bb13-ecb85704d075",
   "metadata": {},
   "outputs": [],
   "source": [
    "# Créer des variables dummies pour les variables catégorielles\n",
    "df = pd.get_dummies(data, columns=['secteur', 'region'])\n",
    "df = df.drop([\"region_United States and Canada\", \"secteur_Communication Services\"], axis = 1)\n",
    "\n",
    "# Définir la liste des variables explicatives\n",
    "column_names = df.columns\n",
    "fixed_column_names = [name.replace(\" \", \"_\").replace(\"_/\", \"\").replace(\",\", \"\") for name in column_names]\n",
    "df.columns = fixed_column_names\n",
    "\n",
    "variables = df.columns[11:]\n",
    "\n",
    "# Définir la variable \"observé\"\n",
    "df['is_observed'] = ~df['gender_pay_gap'].isna()"
   ]
  },
  {
   "cell_type": "code",
   "execution_count": 70,
   "id": "d4416198-e296-4c46-9d7a-bbcc98b8cdbf",
   "metadata": {},
   "outputs": [
    {
     "name": "stdout",
     "output_type": "stream",
     "text": [
      "Index(['revenue', 'scope_1', 'scope_2', 'scope_3', 'waste_production',\n",
      "       'waste_recycling', 'water_consumption', 'water_withdrawal',\n",
      "       'energy_consumption', 'hours_of_training',\n",
      "       'independent_board_members_percentage',\n",
      "       'legal_costs_paid_for_controversies', 'ceo_compensation',\n",
      "       'gender_pay_gap', 'secteur_Consumer_Discretionary',\n",
      "       'secteur_Consumer_Staples', 'secteur_Energy', 'secteur_Financials',\n",
      "       'secteur_Health_Care', 'secteur_Industrials_capital_goods',\n",
      "       'secteur_Industrials_commercial_and_transportation',\n",
      "       'secteur_Information_Technology', 'secteur_Materials',\n",
      "       'secteur_Real_Estate', 'secteur_Utilities', 'region_Africa_Middle_East',\n",
      "       'region_Asia_Pacific', 'region_Europe',\n",
      "       'region_Latin_America_and_Caribbean'],\n",
      "      dtype='object')\n"
     ]
    }
   ],
   "source": [
    "print(variables)"
   ]
  },
  {
   "cell_type": "code",
   "execution_count": 58,
   "id": "bc5ea035-f4b7-4253-b02a-efee45531355",
   "metadata": {},
   "outputs": [],
   "source": [
    "df = df.dropna(subset=variables)"
   ]
  },
  {
   "cell_type": "code",
   "execution_count": 72,
   "id": "89afb667-8fe2-48f6-b248-69a8c62bdb31",
   "metadata": {},
   "outputs": [
    {
     "name": "stderr",
     "output_type": "stream",
     "text": [
      "/tmp/ipykernel_2247/945236413.py:1: FutureWarning: A value is trying to be set on a copy of a DataFrame or Series through chained assignment using an inplace method.\n",
      "The behavior will change in pandas 3.0. This inplace method will never work because the intermediate object on which we are setting values always behaves as a copy.\n",
      "\n",
      "For example, when doing 'df[col].method(value, inplace=True)', try using 'df.method({col: value}, inplace=True)' or df[col] = df[col].method(value) instead, to perform the operation inplace on the original object.\n",
      "\n",
      "\n",
      "  df[\"gender_pay_gap\"] = df[\"gender_pay_gap\"].fillna(df[\"gender_pay_gap\"].median(), inplace=True)\n"
     ]
    }
   ],
   "source": [
    "df[\"gender_pay_gap\"] = df[\"gender_pay_gap\"].fillna(df[\"gender_pay_gap\"].median(), inplace=True)"
   ]
  },
  {
   "cell_type": "code",
   "execution_count": 53,
   "id": "45710984-6c47-4a6b-8974-23982332ac64",
   "metadata": {},
   "outputs": [
    {
     "name": "stderr",
     "output_type": "stream",
     "text": [
      "/tmp/ipykernel_2247/196548383.py:4: FutureWarning: Downcasting object dtype arrays on .fillna, .ffill, .bfill is deprecated and will change in a future version. Call result.infer_objects(copy=False) instead. To opt-in to the future behavior, set `pd.set_option('future.no_silent_downcasting', True)`\n",
      "  df[columns_to_fill] = df[columns_to_fill].fillna(df[columns_to_fill].median(), inplace=True)\n",
      "/tmp/ipykernel_2247/196548383.py:4: SettingWithCopyWarning: \n",
      "A value is trying to be set on a copy of a slice from a DataFrame.\n",
      "Try using .loc[row_indexer,col_indexer] = value instead\n",
      "\n",
      "See the caveats in the documentation: https://pandas.pydata.org/pandas-docs/stable/user_guide/indexing.html#returning-a-view-versus-a-copy\n",
      "  df[columns_to_fill] = df[columns_to_fill].fillna(df[columns_to_fill].median(), inplace=True)\n",
      "/tmp/ipykernel_2247/196548383.py:4: SettingWithCopyWarning: \n",
      "A value is trying to be set on a copy of a slice from a DataFrame\n",
      "\n",
      "See the caveats in the documentation: https://pandas.pydata.org/pandas-docs/stable/user_guide/indexing.html#returning-a-view-versus-a-copy\n",
      "  df[columns_to_fill] = df[columns_to_fill].fillna(df[columns_to_fill].median(), inplace=True)\n"
     ]
    }
   ],
   "source": [
    "columns_to_fill = df.columns[11:27] \n",
    "\n",
    "# Remplir les valeurs manquantes avec la médiane pour ces colonnes\n",
    "df[columns_to_fill] = df[columns_to_fill].fillna(df[columns_to_fill].median(), inplace=True)"
   ]
  },
  {
   "cell_type": "code",
   "execution_count": 73,
   "id": "2bffa84c-c4eb-43f6-8824-4481f4c53e0d",
   "metadata": {},
   "outputs": [
    {
     "ename": "ValueError",
     "evalue": "negative dimensions are not allowed",
     "output_type": "error",
     "traceback": [
      "\u001b[0;31m---------------------------------------------------------------------------\u001b[0m",
      "\u001b[0;31mValueError\u001b[0m                                Traceback (most recent call last)",
      "Cell \u001b[0;32mIn[73], line 8\u001b[0m\n\u001b[1;32m      5\u001b[0m outcome_eq \u001b[38;5;241m=\u001b[39m \u001b[38;5;124m'\u001b[39m\u001b[38;5;124mgender_pay_gap ~ \u001b[39m\u001b[38;5;124m'\u001b[39m \u001b[38;5;241m+\u001b[39m \u001b[38;5;124m'\u001b[39m\u001b[38;5;124m + \u001b[39m\u001b[38;5;124m'\u001b[39m\u001b[38;5;241m.\u001b[39mjoin(variables)\n\u001b[1;32m      7\u001b[0m \u001b[38;5;66;03m# Modèle probit pour la censure\u001b[39;00m\n\u001b[0;32m----> 8\u001b[0m probit_model \u001b[38;5;241m=\u001b[39m \u001b[43msm\u001b[49m\u001b[38;5;241;43m.\u001b[39;49m\u001b[43mProbit\u001b[49m\u001b[38;5;241;43m.\u001b[39;49m\u001b[43mfrom_formula\u001b[49m\u001b[43m(\u001b[49m\u001b[43mselection_eq\u001b[49m\u001b[43m,\u001b[49m\u001b[43m \u001b[49m\u001b[43mdf\u001b[49m\u001b[43m)\u001b[49m\n\u001b[1;32m      9\u001b[0m selection_results \u001b[38;5;241m=\u001b[39m probit_model\u001b[38;5;241m.\u001b[39mfit()\n\u001b[1;32m     11\u001b[0m \u001b[38;5;28mprint\u001b[39m(selection_results\u001b[38;5;241m.\u001b[39msummary())\n",
      "File \u001b[0;32m/opt/mamba/lib/python3.11/site-packages/statsmodels/base/model.py:203\u001b[0m, in \u001b[0;36mModel.from_formula\u001b[0;34m(cls, formula, data, subset, drop_cols, *args, **kwargs)\u001b[0m\n\u001b[1;32m    200\u001b[0m \u001b[38;5;28;01mif\u001b[39;00m missing \u001b[38;5;241m==\u001b[39m \u001b[38;5;124m'\u001b[39m\u001b[38;5;124mnone\u001b[39m\u001b[38;5;124m'\u001b[39m:  \u001b[38;5;66;03m# with patsy it's drop or raise. let's raise.\u001b[39;00m\n\u001b[1;32m    201\u001b[0m     missing \u001b[38;5;241m=\u001b[39m \u001b[38;5;124m'\u001b[39m\u001b[38;5;124mraise\u001b[39m\u001b[38;5;124m'\u001b[39m\n\u001b[0;32m--> 203\u001b[0m tmp \u001b[38;5;241m=\u001b[39m \u001b[43mhandle_formula_data\u001b[49m\u001b[43m(\u001b[49m\u001b[43mdata\u001b[49m\u001b[43m,\u001b[49m\u001b[43m \u001b[49m\u001b[38;5;28;43;01mNone\u001b[39;49;00m\u001b[43m,\u001b[49m\u001b[43m \u001b[49m\u001b[43mformula\u001b[49m\u001b[43m,\u001b[49m\u001b[43m \u001b[49m\u001b[43mdepth\u001b[49m\u001b[38;5;241;43m=\u001b[39;49m\u001b[43meval_env\u001b[49m\u001b[43m,\u001b[49m\n\u001b[1;32m    204\u001b[0m \u001b[43m                          \u001b[49m\u001b[43mmissing\u001b[49m\u001b[38;5;241;43m=\u001b[39;49m\u001b[43mmissing\u001b[49m\u001b[43m)\u001b[49m\n\u001b[1;32m    205\u001b[0m ((endog, exog), missing_idx, design_info) \u001b[38;5;241m=\u001b[39m tmp\n\u001b[1;32m    206\u001b[0m max_endog \u001b[38;5;241m=\u001b[39m \u001b[38;5;28mcls\u001b[39m\u001b[38;5;241m.\u001b[39m_formula_max_endog\n",
      "File \u001b[0;32m/opt/mamba/lib/python3.11/site-packages/statsmodels/formula/formulatools.py:63\u001b[0m, in \u001b[0;36mhandle_formula_data\u001b[0;34m(Y, X, formula, depth, missing)\u001b[0m\n\u001b[1;32m     61\u001b[0m \u001b[38;5;28;01melse\u001b[39;00m:\n\u001b[1;32m     62\u001b[0m     \u001b[38;5;28;01mif\u001b[39;00m data_util\u001b[38;5;241m.\u001b[39m_is_using_pandas(Y, \u001b[38;5;28;01mNone\u001b[39;00m):\n\u001b[0;32m---> 63\u001b[0m         result \u001b[38;5;241m=\u001b[39m \u001b[43mdmatrices\u001b[49m\u001b[43m(\u001b[49m\u001b[43mformula\u001b[49m\u001b[43m,\u001b[49m\u001b[43m \u001b[49m\u001b[43mY\u001b[49m\u001b[43m,\u001b[49m\u001b[43m \u001b[49m\u001b[43mdepth\u001b[49m\u001b[43m,\u001b[49m\u001b[43m \u001b[49m\u001b[43mreturn_type\u001b[49m\u001b[38;5;241;43m=\u001b[39;49m\u001b[38;5;124;43m'\u001b[39;49m\u001b[38;5;124;43mdataframe\u001b[39;49m\u001b[38;5;124;43m'\u001b[39;49m\u001b[43m,\u001b[49m\n\u001b[1;32m     64\u001b[0m \u001b[43m                           \u001b[49m\u001b[43mNA_action\u001b[49m\u001b[38;5;241;43m=\u001b[39;49m\u001b[43mna_action\u001b[49m\u001b[43m)\u001b[49m\n\u001b[1;32m     65\u001b[0m     \u001b[38;5;28;01melse\u001b[39;00m:\n\u001b[1;32m     66\u001b[0m         result \u001b[38;5;241m=\u001b[39m dmatrices(formula, Y, depth, return_type\u001b[38;5;241m=\u001b[39m\u001b[38;5;124m'\u001b[39m\u001b[38;5;124mdataframe\u001b[39m\u001b[38;5;124m'\u001b[39m,\n\u001b[1;32m     67\u001b[0m                            NA_action\u001b[38;5;241m=\u001b[39mna_action)\n",
      "File \u001b[0;32m/opt/mamba/lib/python3.11/site-packages/patsy/highlevel.py:309\u001b[0m, in \u001b[0;36mdmatrices\u001b[0;34m(formula_like, data, eval_env, NA_action, return_type)\u001b[0m\n\u001b[1;32m    299\u001b[0m \u001b[38;5;250m\u001b[39m\u001b[38;5;124;03m\"\"\"Construct two design matrices given a formula_like and data.\u001b[39;00m\n\u001b[1;32m    300\u001b[0m \n\u001b[1;32m    301\u001b[0m \u001b[38;5;124;03mThis function is identical to :func:`dmatrix`, except that it requires\u001b[39;00m\n\u001b[0;32m   (...)\u001b[0m\n\u001b[1;32m    306\u001b[0m \u001b[38;5;124;03mSee :func:`dmatrix` for details.\u001b[39;00m\n\u001b[1;32m    307\u001b[0m \u001b[38;5;124;03m\"\"\"\u001b[39;00m\n\u001b[1;32m    308\u001b[0m eval_env \u001b[38;5;241m=\u001b[39m EvalEnvironment\u001b[38;5;241m.\u001b[39mcapture(eval_env, reference\u001b[38;5;241m=\u001b[39m\u001b[38;5;241m1\u001b[39m)\n\u001b[0;32m--> 309\u001b[0m (lhs, rhs) \u001b[38;5;241m=\u001b[39m \u001b[43m_do_highlevel_design\u001b[49m\u001b[43m(\u001b[49m\u001b[43mformula_like\u001b[49m\u001b[43m,\u001b[49m\u001b[43m \u001b[49m\u001b[43mdata\u001b[49m\u001b[43m,\u001b[49m\u001b[43m \u001b[49m\u001b[43meval_env\u001b[49m\u001b[43m,\u001b[49m\n\u001b[1;32m    310\u001b[0m \u001b[43m                                  \u001b[49m\u001b[43mNA_action\u001b[49m\u001b[43m,\u001b[49m\u001b[43m \u001b[49m\u001b[43mreturn_type\u001b[49m\u001b[43m)\u001b[49m\n\u001b[1;32m    311\u001b[0m \u001b[38;5;28;01mif\u001b[39;00m lhs\u001b[38;5;241m.\u001b[39mshape[\u001b[38;5;241m1\u001b[39m] \u001b[38;5;241m==\u001b[39m \u001b[38;5;241m0\u001b[39m:\n\u001b[1;32m    312\u001b[0m     \u001b[38;5;28;01mraise\u001b[39;00m PatsyError(\u001b[38;5;124m\"\u001b[39m\u001b[38;5;124mmodel is missing required outcome variables\u001b[39m\u001b[38;5;124m\"\u001b[39m)\n",
      "File \u001b[0;32m/opt/mamba/lib/python3.11/site-packages/patsy/highlevel.py:164\u001b[0m, in \u001b[0;36m_do_highlevel_design\u001b[0;34m(formula_like, data, eval_env, NA_action, return_type)\u001b[0m\n\u001b[1;32m    162\u001b[0m \u001b[38;5;28;01mdef\u001b[39;00m \u001b[38;5;21mdata_iter_maker\u001b[39m():\n\u001b[1;32m    163\u001b[0m     \u001b[38;5;28;01mreturn\u001b[39;00m \u001b[38;5;28miter\u001b[39m([data])\n\u001b[0;32m--> 164\u001b[0m design_infos \u001b[38;5;241m=\u001b[39m \u001b[43m_try_incr_builders\u001b[49m\u001b[43m(\u001b[49m\u001b[43mformula_like\u001b[49m\u001b[43m,\u001b[49m\u001b[43m \u001b[49m\u001b[43mdata_iter_maker\u001b[49m\u001b[43m,\u001b[49m\u001b[43m \u001b[49m\u001b[43meval_env\u001b[49m\u001b[43m,\u001b[49m\n\u001b[1;32m    165\u001b[0m \u001b[43m                                  \u001b[49m\u001b[43mNA_action\u001b[49m\u001b[43m)\u001b[49m\n\u001b[1;32m    166\u001b[0m \u001b[38;5;28;01mif\u001b[39;00m design_infos \u001b[38;5;129;01mis\u001b[39;00m \u001b[38;5;129;01mnot\u001b[39;00m \u001b[38;5;28;01mNone\u001b[39;00m:\n\u001b[1;32m    167\u001b[0m     \u001b[38;5;28;01mreturn\u001b[39;00m build_design_matrices(design_infos, data,\n\u001b[1;32m    168\u001b[0m                                  NA_action\u001b[38;5;241m=\u001b[39mNA_action,\n\u001b[1;32m    169\u001b[0m                                  return_type\u001b[38;5;241m=\u001b[39mreturn_type)\n",
      "File \u001b[0;32m/opt/mamba/lib/python3.11/site-packages/patsy/highlevel.py:66\u001b[0m, in \u001b[0;36m_try_incr_builders\u001b[0;34m(formula_like, data_iter_maker, eval_env, NA_action)\u001b[0m\n\u001b[1;32m     64\u001b[0m \u001b[38;5;28;01mif\u001b[39;00m \u001b[38;5;28misinstance\u001b[39m(formula_like, ModelDesc):\n\u001b[1;32m     65\u001b[0m     \u001b[38;5;28;01massert\u001b[39;00m \u001b[38;5;28misinstance\u001b[39m(eval_env, EvalEnvironment)\n\u001b[0;32m---> 66\u001b[0m     \u001b[38;5;28;01mreturn\u001b[39;00m \u001b[43mdesign_matrix_builders\u001b[49m\u001b[43m(\u001b[49m\u001b[43m[\u001b[49m\u001b[43mformula_like\u001b[49m\u001b[38;5;241;43m.\u001b[39;49m\u001b[43mlhs_termlist\u001b[49m\u001b[43m,\u001b[49m\n\u001b[1;32m     67\u001b[0m \u001b[43m                                   \u001b[49m\u001b[43mformula_like\u001b[49m\u001b[38;5;241;43m.\u001b[39;49m\u001b[43mrhs_termlist\u001b[49m\u001b[43m]\u001b[49m\u001b[43m,\u001b[49m\n\u001b[1;32m     68\u001b[0m \u001b[43m                                  \u001b[49m\u001b[43mdata_iter_maker\u001b[49m\u001b[43m,\u001b[49m\n\u001b[1;32m     69\u001b[0m \u001b[43m                                  \u001b[49m\u001b[43meval_env\u001b[49m\u001b[43m,\u001b[49m\n\u001b[1;32m     70\u001b[0m \u001b[43m                                  \u001b[49m\u001b[43mNA_action\u001b[49m\u001b[43m)\u001b[49m\n\u001b[1;32m     71\u001b[0m \u001b[38;5;28;01melse\u001b[39;00m:\n\u001b[1;32m     72\u001b[0m     \u001b[38;5;28;01mreturn\u001b[39;00m \u001b[38;5;28;01mNone\u001b[39;00m\n",
      "File \u001b[0;32m/opt/mamba/lib/python3.11/site-packages/patsy/build.py:719\u001b[0m, in \u001b[0;36mdesign_matrix_builders\u001b[0;34m(termlists, data_iter_maker, eval_env, NA_action)\u001b[0m\n\u001b[1;32m    717\u001b[0m design_infos \u001b[38;5;241m=\u001b[39m []\n\u001b[1;32m    718\u001b[0m \u001b[38;5;28;01mfor\u001b[39;00m termlist \u001b[38;5;129;01min\u001b[39;00m termlists:\n\u001b[0;32m--> 719\u001b[0m     term_to_subterm_infos \u001b[38;5;241m=\u001b[39m \u001b[43m_make_subterm_infos\u001b[49m\u001b[43m(\u001b[49m\u001b[43mtermlist\u001b[49m\u001b[43m,\u001b[49m\n\u001b[1;32m    720\u001b[0m \u001b[43m                                                \u001b[49m\u001b[43mnum_column_counts\u001b[49m\u001b[43m,\u001b[49m\n\u001b[1;32m    721\u001b[0m \u001b[43m                                                \u001b[49m\u001b[43mcat_levels_contrasts\u001b[49m\u001b[43m)\u001b[49m\n\u001b[1;32m    722\u001b[0m     \u001b[38;5;28;01massert\u001b[39;00m \u001b[38;5;28misinstance\u001b[39m(term_to_subterm_infos, OrderedDict)\n\u001b[1;32m    723\u001b[0m     \u001b[38;5;28;01massert\u001b[39;00m \u001b[38;5;28mfrozenset\u001b[39m(term_to_subterm_infos) \u001b[38;5;241m==\u001b[39m \u001b[38;5;28mfrozenset\u001b[39m(termlist)\n",
      "File \u001b[0;32m/opt/mamba/lib/python3.11/site-packages/patsy/build.py:626\u001b[0m, in \u001b[0;36m_make_subterm_infos\u001b[0;34m(terms, num_column_counts, cat_levels_contrasts)\u001b[0m\n\u001b[1;32m    623\u001b[0m levels, contrast \u001b[38;5;241m=\u001b[39m cat_levels_contrasts[factor]\n\u001b[1;32m    624\u001b[0m \u001b[38;5;66;03m# This is where the default coding is set to\u001b[39;00m\n\u001b[1;32m    625\u001b[0m \u001b[38;5;66;03m# Treatment:\u001b[39;00m\n\u001b[0;32m--> 626\u001b[0m coded \u001b[38;5;241m=\u001b[39m \u001b[43mcode_contrast_matrix\u001b[49m\u001b[43m(\u001b[49m\u001b[43mfactor_coding\u001b[49m\u001b[43m[\u001b[49m\u001b[43mfactor\u001b[49m\u001b[43m]\u001b[49m\u001b[43m,\u001b[49m\n\u001b[1;32m    627\u001b[0m \u001b[43m                             \u001b[49m\u001b[43mlevels\u001b[49m\u001b[43m,\u001b[49m\u001b[43m \u001b[49m\u001b[43mcontrast\u001b[49m\u001b[43m,\u001b[49m\n\u001b[1;32m    628\u001b[0m \u001b[43m                             \u001b[49m\u001b[43mdefault\u001b[49m\u001b[38;5;241;43m=\u001b[39;49m\u001b[43mTreatment\u001b[49m\u001b[43m)\u001b[49m\n\u001b[1;32m    629\u001b[0m contrast_matrices[factor] \u001b[38;5;241m=\u001b[39m coded\n\u001b[1;32m    630\u001b[0m subterm_columns \u001b[38;5;241m*\u001b[39m\u001b[38;5;241m=\u001b[39m coded\u001b[38;5;241m.\u001b[39mmatrix\u001b[38;5;241m.\u001b[39mshape[\u001b[38;5;241m1\u001b[39m]\n",
      "File \u001b[0;32m/opt/mamba/lib/python3.11/site-packages/patsy/contrasts.py:602\u001b[0m, in \u001b[0;36mcode_contrast_matrix\u001b[0;34m(intercept, levels, contrast, default)\u001b[0m\n\u001b[1;32m    600\u001b[0m     \u001b[38;5;28;01mreturn\u001b[39;00m contrast\u001b[38;5;241m.\u001b[39mcode_with_intercept(levels)\n\u001b[1;32m    601\u001b[0m \u001b[38;5;28;01melse\u001b[39;00m:\n\u001b[0;32m--> 602\u001b[0m     \u001b[38;5;28;01mreturn\u001b[39;00m \u001b[43mcontrast\u001b[49m\u001b[38;5;241;43m.\u001b[39;49m\u001b[43mcode_without_intercept\u001b[49m\u001b[43m(\u001b[49m\u001b[43mlevels\u001b[49m\u001b[43m)\u001b[49m\n",
      "File \u001b[0;32m/opt/mamba/lib/python3.11/site-packages/patsy/contrasts.py:183\u001b[0m, in \u001b[0;36mTreatment.code_without_intercept\u001b[0;34m(self, levels)\u001b[0m\n\u001b[1;32m    181\u001b[0m \u001b[38;5;28;01melse\u001b[39;00m:\n\u001b[1;32m    182\u001b[0m     reference \u001b[38;5;241m=\u001b[39m _get_level(levels, \u001b[38;5;28mself\u001b[39m\u001b[38;5;241m.\u001b[39mreference)\n\u001b[0;32m--> 183\u001b[0m eye \u001b[38;5;241m=\u001b[39m \u001b[43mnp\u001b[49m\u001b[38;5;241;43m.\u001b[39;49m\u001b[43meye\u001b[49m\u001b[43m(\u001b[49m\u001b[38;5;28;43mlen\u001b[39;49m\u001b[43m(\u001b[49m\u001b[43mlevels\u001b[49m\u001b[43m)\u001b[49m\u001b[43m \u001b[49m\u001b[38;5;241;43m-\u001b[39;49m\u001b[43m \u001b[49m\u001b[38;5;241;43m1\u001b[39;49m\u001b[43m)\u001b[49m\n\u001b[1;32m    184\u001b[0m contrasts \u001b[38;5;241m=\u001b[39m np\u001b[38;5;241m.\u001b[39mvstack((eye[:reference, :],\n\u001b[1;32m    185\u001b[0m                         np\u001b[38;5;241m.\u001b[39mzeros((\u001b[38;5;241m1\u001b[39m, \u001b[38;5;28mlen\u001b[39m(levels) \u001b[38;5;241m-\u001b[39m \u001b[38;5;241m1\u001b[39m)),\n\u001b[1;32m    186\u001b[0m                         eye[reference:, :]))\n\u001b[1;32m    187\u001b[0m names \u001b[38;5;241m=\u001b[39m _name_levels(\u001b[38;5;124m\"\u001b[39m\u001b[38;5;124mT.\u001b[39m\u001b[38;5;124m\"\u001b[39m, levels[:reference] \u001b[38;5;241m+\u001b[39m levels[reference \u001b[38;5;241m+\u001b[39m \u001b[38;5;241m1\u001b[39m:])\n",
      "File \u001b[0;32m/opt/mamba/lib/python3.11/site-packages/numpy/lib/twodim_base.py:211\u001b[0m, in \u001b[0;36meye\u001b[0;34m(N, M, k, dtype, order, like)\u001b[0m\n\u001b[1;32m    209\u001b[0m \u001b[38;5;28;01mif\u001b[39;00m M \u001b[38;5;129;01mis\u001b[39;00m \u001b[38;5;28;01mNone\u001b[39;00m:\n\u001b[1;32m    210\u001b[0m     M \u001b[38;5;241m=\u001b[39m N\n\u001b[0;32m--> 211\u001b[0m m \u001b[38;5;241m=\u001b[39m zeros((N, M), dtype\u001b[38;5;241m=\u001b[39mdtype, order\u001b[38;5;241m=\u001b[39morder)\n\u001b[1;32m    212\u001b[0m \u001b[38;5;28;01mif\u001b[39;00m k \u001b[38;5;241m>\u001b[39m\u001b[38;5;241m=\u001b[39m M:\n\u001b[1;32m    213\u001b[0m     \u001b[38;5;28;01mreturn\u001b[39;00m m\n",
      "\u001b[0;31mValueError\u001b[0m: negative dimensions are not allowed"
     ]
    }
   ],
   "source": [
    "# Créer un modèle probit pour modéliser le mécanisme de sélection\n",
    "selection_eq = 'is_observed ~ ' + ' + '.join(variables)\n",
    "\n",
    "# Créer un modèle de régression pour modéliser le résultat\n",
    "outcome_eq = 'gender_pay_gap ~ ' + ' + '.join(variables)\n",
    "\n",
    "# Modèle probit pour la censure\n",
    "probit_model = sm.Probit.from_formula(selection_eq, df)\n",
    "selection_results = probit_model.fit()\n",
    "\n",
    "print(selection_results.summary())\n",
    "\n",
    "# Utilisation d'un modèle IV (Instrumental Variable) pour la deuxième étape (régression)\n",
    "iv2sls = IV2SLS.from_formula(outcome_eq, df,\n",
    "                            endog='gender_pay_gap',\n",
    "                            instruments='ceo_compensation')\n",
    "\n",
    "iv_results = iv2sls.fit()\n",
    "\n",
    "print(iv_results.summary())"
   ]
  },
  {
   "cell_type": "code",
   "execution_count": null,
   "id": "639972ce-e8dc-4619-9bb1-e2390da2644c",
   "metadata": {},
   "outputs": [],
   "source": []
  }
 ],
 "metadata": {
  "kernelspec": {
   "display_name": "Python 3 (ipykernel)",
   "language": "python",
   "name": "python3"
  },
  "language_info": {
   "codemirror_mode": {
    "name": "ipython",
    "version": 3
   },
   "file_extension": ".py",
   "mimetype": "text/x-python",
   "name": "python",
   "nbconvert_exporter": "python",
   "pygments_lexer": "ipython3",
   "version": "3.11.6"
  }
 },
 "nbformat": 4,
 "nbformat_minor": 5
}
