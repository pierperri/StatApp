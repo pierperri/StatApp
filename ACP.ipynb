{
 "cells": [
  {
   "cell_type": "markdown",
   "id": "669310f7-db35-4398-a113-1716e87bf9b3",
   "metadata": {},
   "source": [
    "Description des entreprises qui divulguent leurs données de gender pay gap.  ? Bons/mauvais élèves dans leurs secteurs sur les autres variables ? Biais de taille (seules grosses entreprises divulguent) ? Analyse en composante principales (ACP) pour faire ressortir les principales variables discriminantes ?\n"
   ]
  },
  {
   "cell_type": "code",
   "execution_count": 9,
   "id": "9bd23f23-c0ca-47cc-ae18-6c3f1aef119d",
   "metadata": {},
   "outputs": [
    {
     "name": "stdout",
     "output_type": "stream",
     "text": [
      "Collecting openpyxl\n",
      "  Downloading openpyxl-3.1.2-py2.py3-none-any.whl.metadata (2.5 kB)\n",
      "Collecting et-xmlfile (from openpyxl)\n",
      "  Downloading et_xmlfile-1.1.0-py3-none-any.whl.metadata (1.8 kB)\n",
      "Downloading openpyxl-3.1.2-py2.py3-none-any.whl (249 kB)\n",
      "\u001b[2K   \u001b[90m━━━━━━━━━━━━━━━━━━━━━━━━━━━━━━━━━━━━━━━━\u001b[0m \u001b[32m250.0/250.0 kB\u001b[0m \u001b[31m8.0 MB/s\u001b[0m eta \u001b[36m0:00:00\u001b[0m\n",
      "\u001b[?25hDownloading et_xmlfile-1.1.0-py3-none-any.whl (4.7 kB)\n",
      "Installing collected packages: et-xmlfile, openpyxl\n",
      "Successfully installed et-xmlfile-1.1.0 openpyxl-3.1.2\n"
     ]
    }
   ],
   "source": [
    "!pip install openpyxl\n"
   ]
  },
  {
   "cell_type": "code",
   "execution_count": 10,
   "id": "43a3e204-65f3-40bd-8338-c26ee5e4f888",
   "metadata": {},
   "outputs": [],
   "source": [
    "import pandas as pd\n",
    "import numpy as np\n",
    "import math\n",
    "import openpyxl\n"
   ]
  },
  {
   "cell_type": "code",
   "execution_count": 14,
   "id": "3ae6928a-4a60-4e25-a8d1-fd9e35adb9b3",
   "metadata": {},
   "outputs": [
    {
     "ename": "FileNotFoundError",
     "evalue": "[Errno 2] No such file or directory: 'data/secteurs.csv'",
     "output_type": "error",
     "traceback": [
      "\u001b[0;31m---------------------------------------------------------------------------\u001b[0m",
      "\u001b[0;31mFileNotFoundError\u001b[0m                         Traceback (most recent call last)",
      "Cell \u001b[0;32mIn[14], line 3\u001b[0m\n\u001b[1;32m      1\u001b[0m file_imp_path \u001b[38;5;241m=\u001b[39m \u001b[38;5;124m\"\u001b[39m\u001b[38;5;124mdata/database-imputed ESG.xlsx\u001b[39m\u001b[38;5;124m\"\u001b[39m\n\u001b[1;32m      2\u001b[0m file_sect \u001b[38;5;241m=\u001b[39m \u001b[38;5;124m\"\u001b[39m\u001b[38;5;124mdata/secteurs.csv\u001b[39m\u001b[38;5;124m\"\u001b[39m\n\u001b[0;32m----> 3\u001b[0m corresp_secteurs \u001b[38;5;241m=\u001b[39m \u001b[43mpd\u001b[49m\u001b[38;5;241;43m.\u001b[39;49m\u001b[43mread_csv\u001b[49m\u001b[43m(\u001b[49m\u001b[43mfile_sect\u001b[49m\u001b[43m,\u001b[49m\u001b[43m \u001b[49m\u001b[43msep\u001b[49m\u001b[38;5;241;43m=\u001b[39;49m\u001b[38;5;124;43m\"\u001b[39;49m\u001b[38;5;124;43m;\u001b[39;49m\u001b[38;5;124;43m\"\u001b[39;49m\u001b[43m)\u001b[49m\n\u001b[1;32m      4\u001b[0m imp_data \u001b[38;5;241m=\u001b[39m pd\u001b[38;5;241m.\u001b[39mread_excel(file_imp_path)\n\u001b[1;32m      5\u001b[0m imp_data \u001b[38;5;241m=\u001b[39m imp_data\u001b[38;5;241m.\u001b[39mjoin(corresp_secteurs\u001b[38;5;241m.\u001b[39mset_index(\u001b[38;5;124m'\u001b[39m\u001b[38;5;124mprimary_industry\u001b[39m\u001b[38;5;124m'\u001b[39m), on \u001b[38;5;241m=\u001b[39m \u001b[38;5;124m\"\u001b[39m\u001b[38;5;124mprimary_industry\u001b[39m\u001b[38;5;124m\"\u001b[39m)\n",
      "File \u001b[0;32m/opt/mamba/lib/python3.11/site-packages/pandas/io/parsers/readers.py:1026\u001b[0m, in \u001b[0;36mread_csv\u001b[0;34m(filepath_or_buffer, sep, delimiter, header, names, index_col, usecols, dtype, engine, converters, true_values, false_values, skipinitialspace, skiprows, skipfooter, nrows, na_values, keep_default_na, na_filter, verbose, skip_blank_lines, parse_dates, infer_datetime_format, keep_date_col, date_parser, date_format, dayfirst, cache_dates, iterator, chunksize, compression, thousands, decimal, lineterminator, quotechar, quoting, doublequote, escapechar, comment, encoding, encoding_errors, dialect, on_bad_lines, delim_whitespace, low_memory, memory_map, float_precision, storage_options, dtype_backend)\u001b[0m\n\u001b[1;32m   1013\u001b[0m kwds_defaults \u001b[38;5;241m=\u001b[39m _refine_defaults_read(\n\u001b[1;32m   1014\u001b[0m     dialect,\n\u001b[1;32m   1015\u001b[0m     delimiter,\n\u001b[0;32m   (...)\u001b[0m\n\u001b[1;32m   1022\u001b[0m     dtype_backend\u001b[38;5;241m=\u001b[39mdtype_backend,\n\u001b[1;32m   1023\u001b[0m )\n\u001b[1;32m   1024\u001b[0m kwds\u001b[38;5;241m.\u001b[39mupdate(kwds_defaults)\n\u001b[0;32m-> 1026\u001b[0m \u001b[38;5;28;01mreturn\u001b[39;00m \u001b[43m_read\u001b[49m\u001b[43m(\u001b[49m\u001b[43mfilepath_or_buffer\u001b[49m\u001b[43m,\u001b[49m\u001b[43m \u001b[49m\u001b[43mkwds\u001b[49m\u001b[43m)\u001b[49m\n",
      "File \u001b[0;32m/opt/mamba/lib/python3.11/site-packages/pandas/io/parsers/readers.py:620\u001b[0m, in \u001b[0;36m_read\u001b[0;34m(filepath_or_buffer, kwds)\u001b[0m\n\u001b[1;32m    617\u001b[0m _validate_names(kwds\u001b[38;5;241m.\u001b[39mget(\u001b[38;5;124m\"\u001b[39m\u001b[38;5;124mnames\u001b[39m\u001b[38;5;124m\"\u001b[39m, \u001b[38;5;28;01mNone\u001b[39;00m))\n\u001b[1;32m    619\u001b[0m \u001b[38;5;66;03m# Create the parser.\u001b[39;00m\n\u001b[0;32m--> 620\u001b[0m parser \u001b[38;5;241m=\u001b[39m \u001b[43mTextFileReader\u001b[49m\u001b[43m(\u001b[49m\u001b[43mfilepath_or_buffer\u001b[49m\u001b[43m,\u001b[49m\u001b[43m \u001b[49m\u001b[38;5;241;43m*\u001b[39;49m\u001b[38;5;241;43m*\u001b[39;49m\u001b[43mkwds\u001b[49m\u001b[43m)\u001b[49m\n\u001b[1;32m    622\u001b[0m \u001b[38;5;28;01mif\u001b[39;00m chunksize \u001b[38;5;129;01mor\u001b[39;00m iterator:\n\u001b[1;32m    623\u001b[0m     \u001b[38;5;28;01mreturn\u001b[39;00m parser\n",
      "File \u001b[0;32m/opt/mamba/lib/python3.11/site-packages/pandas/io/parsers/readers.py:1620\u001b[0m, in \u001b[0;36mTextFileReader.__init__\u001b[0;34m(self, f, engine, **kwds)\u001b[0m\n\u001b[1;32m   1617\u001b[0m     \u001b[38;5;28mself\u001b[39m\u001b[38;5;241m.\u001b[39moptions[\u001b[38;5;124m\"\u001b[39m\u001b[38;5;124mhas_index_names\u001b[39m\u001b[38;5;124m\"\u001b[39m] \u001b[38;5;241m=\u001b[39m kwds[\u001b[38;5;124m\"\u001b[39m\u001b[38;5;124mhas_index_names\u001b[39m\u001b[38;5;124m\"\u001b[39m]\n\u001b[1;32m   1619\u001b[0m \u001b[38;5;28mself\u001b[39m\u001b[38;5;241m.\u001b[39mhandles: IOHandles \u001b[38;5;241m|\u001b[39m \u001b[38;5;28;01mNone\u001b[39;00m \u001b[38;5;241m=\u001b[39m \u001b[38;5;28;01mNone\u001b[39;00m\n\u001b[0;32m-> 1620\u001b[0m \u001b[38;5;28mself\u001b[39m\u001b[38;5;241m.\u001b[39m_engine \u001b[38;5;241m=\u001b[39m \u001b[38;5;28;43mself\u001b[39;49m\u001b[38;5;241;43m.\u001b[39;49m\u001b[43m_make_engine\u001b[49m\u001b[43m(\u001b[49m\u001b[43mf\u001b[49m\u001b[43m,\u001b[49m\u001b[43m \u001b[49m\u001b[38;5;28;43mself\u001b[39;49m\u001b[38;5;241;43m.\u001b[39;49m\u001b[43mengine\u001b[49m\u001b[43m)\u001b[49m\n",
      "File \u001b[0;32m/opt/mamba/lib/python3.11/site-packages/pandas/io/parsers/readers.py:1880\u001b[0m, in \u001b[0;36mTextFileReader._make_engine\u001b[0;34m(self, f, engine)\u001b[0m\n\u001b[1;32m   1878\u001b[0m     \u001b[38;5;28;01mif\u001b[39;00m \u001b[38;5;124m\"\u001b[39m\u001b[38;5;124mb\u001b[39m\u001b[38;5;124m\"\u001b[39m \u001b[38;5;129;01mnot\u001b[39;00m \u001b[38;5;129;01min\u001b[39;00m mode:\n\u001b[1;32m   1879\u001b[0m         mode \u001b[38;5;241m+\u001b[39m\u001b[38;5;241m=\u001b[39m \u001b[38;5;124m\"\u001b[39m\u001b[38;5;124mb\u001b[39m\u001b[38;5;124m\"\u001b[39m\n\u001b[0;32m-> 1880\u001b[0m \u001b[38;5;28mself\u001b[39m\u001b[38;5;241m.\u001b[39mhandles \u001b[38;5;241m=\u001b[39m \u001b[43mget_handle\u001b[49m\u001b[43m(\u001b[49m\n\u001b[1;32m   1881\u001b[0m \u001b[43m    \u001b[49m\u001b[43mf\u001b[49m\u001b[43m,\u001b[49m\n\u001b[1;32m   1882\u001b[0m \u001b[43m    \u001b[49m\u001b[43mmode\u001b[49m\u001b[43m,\u001b[49m\n\u001b[1;32m   1883\u001b[0m \u001b[43m    \u001b[49m\u001b[43mencoding\u001b[49m\u001b[38;5;241;43m=\u001b[39;49m\u001b[38;5;28;43mself\u001b[39;49m\u001b[38;5;241;43m.\u001b[39;49m\u001b[43moptions\u001b[49m\u001b[38;5;241;43m.\u001b[39;49m\u001b[43mget\u001b[49m\u001b[43m(\u001b[49m\u001b[38;5;124;43m\"\u001b[39;49m\u001b[38;5;124;43mencoding\u001b[39;49m\u001b[38;5;124;43m\"\u001b[39;49m\u001b[43m,\u001b[49m\u001b[43m \u001b[49m\u001b[38;5;28;43;01mNone\u001b[39;49;00m\u001b[43m)\u001b[49m\u001b[43m,\u001b[49m\n\u001b[1;32m   1884\u001b[0m \u001b[43m    \u001b[49m\u001b[43mcompression\u001b[49m\u001b[38;5;241;43m=\u001b[39;49m\u001b[38;5;28;43mself\u001b[39;49m\u001b[38;5;241;43m.\u001b[39;49m\u001b[43moptions\u001b[49m\u001b[38;5;241;43m.\u001b[39;49m\u001b[43mget\u001b[49m\u001b[43m(\u001b[49m\u001b[38;5;124;43m\"\u001b[39;49m\u001b[38;5;124;43mcompression\u001b[39;49m\u001b[38;5;124;43m\"\u001b[39;49m\u001b[43m,\u001b[49m\u001b[43m \u001b[49m\u001b[38;5;28;43;01mNone\u001b[39;49;00m\u001b[43m)\u001b[49m\u001b[43m,\u001b[49m\n\u001b[1;32m   1885\u001b[0m \u001b[43m    \u001b[49m\u001b[43mmemory_map\u001b[49m\u001b[38;5;241;43m=\u001b[39;49m\u001b[38;5;28;43mself\u001b[39;49m\u001b[38;5;241;43m.\u001b[39;49m\u001b[43moptions\u001b[49m\u001b[38;5;241;43m.\u001b[39;49m\u001b[43mget\u001b[49m\u001b[43m(\u001b[49m\u001b[38;5;124;43m\"\u001b[39;49m\u001b[38;5;124;43mmemory_map\u001b[39;49m\u001b[38;5;124;43m\"\u001b[39;49m\u001b[43m,\u001b[49m\u001b[43m \u001b[49m\u001b[38;5;28;43;01mFalse\u001b[39;49;00m\u001b[43m)\u001b[49m\u001b[43m,\u001b[49m\n\u001b[1;32m   1886\u001b[0m \u001b[43m    \u001b[49m\u001b[43mis_text\u001b[49m\u001b[38;5;241;43m=\u001b[39;49m\u001b[43mis_text\u001b[49m\u001b[43m,\u001b[49m\n\u001b[1;32m   1887\u001b[0m \u001b[43m    \u001b[49m\u001b[43merrors\u001b[49m\u001b[38;5;241;43m=\u001b[39;49m\u001b[38;5;28;43mself\u001b[39;49m\u001b[38;5;241;43m.\u001b[39;49m\u001b[43moptions\u001b[49m\u001b[38;5;241;43m.\u001b[39;49m\u001b[43mget\u001b[49m\u001b[43m(\u001b[49m\u001b[38;5;124;43m\"\u001b[39;49m\u001b[38;5;124;43mencoding_errors\u001b[39;49m\u001b[38;5;124;43m\"\u001b[39;49m\u001b[43m,\u001b[49m\u001b[43m \u001b[49m\u001b[38;5;124;43m\"\u001b[39;49m\u001b[38;5;124;43mstrict\u001b[39;49m\u001b[38;5;124;43m\"\u001b[39;49m\u001b[43m)\u001b[49m\u001b[43m,\u001b[49m\n\u001b[1;32m   1888\u001b[0m \u001b[43m    \u001b[49m\u001b[43mstorage_options\u001b[49m\u001b[38;5;241;43m=\u001b[39;49m\u001b[38;5;28;43mself\u001b[39;49m\u001b[38;5;241;43m.\u001b[39;49m\u001b[43moptions\u001b[49m\u001b[38;5;241;43m.\u001b[39;49m\u001b[43mget\u001b[49m\u001b[43m(\u001b[49m\u001b[38;5;124;43m\"\u001b[39;49m\u001b[38;5;124;43mstorage_options\u001b[39;49m\u001b[38;5;124;43m\"\u001b[39;49m\u001b[43m,\u001b[49m\u001b[43m \u001b[49m\u001b[38;5;28;43;01mNone\u001b[39;49;00m\u001b[43m)\u001b[49m\u001b[43m,\u001b[49m\n\u001b[1;32m   1889\u001b[0m \u001b[43m\u001b[49m\u001b[43m)\u001b[49m\n\u001b[1;32m   1890\u001b[0m \u001b[38;5;28;01massert\u001b[39;00m \u001b[38;5;28mself\u001b[39m\u001b[38;5;241m.\u001b[39mhandles \u001b[38;5;129;01mis\u001b[39;00m \u001b[38;5;129;01mnot\u001b[39;00m \u001b[38;5;28;01mNone\u001b[39;00m\n\u001b[1;32m   1891\u001b[0m f \u001b[38;5;241m=\u001b[39m \u001b[38;5;28mself\u001b[39m\u001b[38;5;241m.\u001b[39mhandles\u001b[38;5;241m.\u001b[39mhandle\n",
      "File \u001b[0;32m/opt/mamba/lib/python3.11/site-packages/pandas/io/common.py:873\u001b[0m, in \u001b[0;36mget_handle\u001b[0;34m(path_or_buf, mode, encoding, compression, memory_map, is_text, errors, storage_options)\u001b[0m\n\u001b[1;32m    868\u001b[0m \u001b[38;5;28;01melif\u001b[39;00m \u001b[38;5;28misinstance\u001b[39m(handle, \u001b[38;5;28mstr\u001b[39m):\n\u001b[1;32m    869\u001b[0m     \u001b[38;5;66;03m# Check whether the filename is to be opened in binary mode.\u001b[39;00m\n\u001b[1;32m    870\u001b[0m     \u001b[38;5;66;03m# Binary mode does not support 'encoding' and 'newline'.\u001b[39;00m\n\u001b[1;32m    871\u001b[0m     \u001b[38;5;28;01mif\u001b[39;00m ioargs\u001b[38;5;241m.\u001b[39mencoding \u001b[38;5;129;01mand\u001b[39;00m \u001b[38;5;124m\"\u001b[39m\u001b[38;5;124mb\u001b[39m\u001b[38;5;124m\"\u001b[39m \u001b[38;5;129;01mnot\u001b[39;00m \u001b[38;5;129;01min\u001b[39;00m ioargs\u001b[38;5;241m.\u001b[39mmode:\n\u001b[1;32m    872\u001b[0m         \u001b[38;5;66;03m# Encoding\u001b[39;00m\n\u001b[0;32m--> 873\u001b[0m         handle \u001b[38;5;241m=\u001b[39m \u001b[38;5;28;43mopen\u001b[39;49m\u001b[43m(\u001b[49m\n\u001b[1;32m    874\u001b[0m \u001b[43m            \u001b[49m\u001b[43mhandle\u001b[49m\u001b[43m,\u001b[49m\n\u001b[1;32m    875\u001b[0m \u001b[43m            \u001b[49m\u001b[43mioargs\u001b[49m\u001b[38;5;241;43m.\u001b[39;49m\u001b[43mmode\u001b[49m\u001b[43m,\u001b[49m\n\u001b[1;32m    876\u001b[0m \u001b[43m            \u001b[49m\u001b[43mencoding\u001b[49m\u001b[38;5;241;43m=\u001b[39;49m\u001b[43mioargs\u001b[49m\u001b[38;5;241;43m.\u001b[39;49m\u001b[43mencoding\u001b[49m\u001b[43m,\u001b[49m\n\u001b[1;32m    877\u001b[0m \u001b[43m            \u001b[49m\u001b[43merrors\u001b[49m\u001b[38;5;241;43m=\u001b[39;49m\u001b[43merrors\u001b[49m\u001b[43m,\u001b[49m\n\u001b[1;32m    878\u001b[0m \u001b[43m            \u001b[49m\u001b[43mnewline\u001b[49m\u001b[38;5;241;43m=\u001b[39;49m\u001b[38;5;124;43m\"\u001b[39;49m\u001b[38;5;124;43m\"\u001b[39;49m\u001b[43m,\u001b[49m\n\u001b[1;32m    879\u001b[0m \u001b[43m        \u001b[49m\u001b[43m)\u001b[49m\n\u001b[1;32m    880\u001b[0m     \u001b[38;5;28;01melse\u001b[39;00m:\n\u001b[1;32m    881\u001b[0m         \u001b[38;5;66;03m# Binary mode\u001b[39;00m\n\u001b[1;32m    882\u001b[0m         handle \u001b[38;5;241m=\u001b[39m \u001b[38;5;28mopen\u001b[39m(handle, ioargs\u001b[38;5;241m.\u001b[39mmode)\n",
      "\u001b[0;31mFileNotFoundError\u001b[0m: [Errno 2] No such file or directory: 'data/secteurs.csv'"
     ]
    }
   ],
   "source": [
    "file_imp_path = \"data/database-imputed ESG.xlsx\"\n",
    "file_sect = \"data/secteurs.csv\"\n",
    "corresp_secteurs = pd.read_csv(file_sect, sep=\";\")\n",
    "imp_data = pd.read_excel(file_imp_path)\n",
    "imp_data = imp_data.join(corresp_secteurs.set_index('primary_industry'), on = \"primary_industry\")"
   ]
  },
  {
   "cell_type": "code",
   "execution_count": 28,
   "id": "e8858e87-c794-4896-851f-8ab7089fbf39",
   "metadata": {},
   "outputs": [
    {
     "name": "stdout",
     "output_type": "stream",
     "text": [
      "Number of missing values in 'gender_pay_gap': 0\n"
     ]
    }
   ],
   "source": [
    "imp_data = pd.read_excel(file_imp_path)\n",
    "\n",
    "imp_data['missing'] = imp_data['gender_pay_gap'].isnull().astype(float)\n",
    "\n",
    "count_missing = imp_data[imp_data['missing'] == 1]['missing'].count()\n",
    "print(\"Number of missing values in 'gender_pay_gap':\", count_missing)\n",
    "\n",
    "missing_paygap_subdataset = imp_data[imp_data['missing'] == 1]\n",
    "non_missing_paygap_subdataset = imp_data[imp_data['missing'] == 0]"
   ]
  },
  {
   "cell_type": "markdown",
   "id": "6f51da22-4746-44a1-8599-274baa0cd2cc",
   "metadata": {},
   "source": [
    "# Secteurs de prédilection\n"
   ]
  },
  {
   "cell_type": "code",
   "execution_count": 33,
   "id": "ca3cf24d-f6f8-4bc0-b9a7-308c737cee78",
   "metadata": {},
   "outputs": [
    {
     "data": {
      "text/plain": [
       "0      13.506805\n",
       "1      13.869499\n",
       "2      21.097915\n",
       "3      -1.690225\n",
       "4      19.982123\n",
       "         ...    \n",
       "195     5.121436\n",
       "196     6.014321\n",
       "197     3.502993\n",
       "198     4.255374\n",
       "199    -0.111596\n",
       "Name: gender_pay_gap, Length: 200, dtype: float64"
      ]
     },
     "execution_count": 33,
     "metadata": {},
     "output_type": "execute_result"
    }
   ],
   "source": [
    "# Attendre le fichier de Aymeric\n",
    "\n",
    "imp_data['gender_pay_gap'].head(200)\n"
   ]
  },
  {
   "cell_type": "markdown",
   "id": "5d133ea0-78a9-48e7-9973-fc29b5a708f0",
   "metadata": {},
   "source": [
    " # Biais de taille (seules grosses entreprises divulguent) ?\n"
   ]
  },
  {
   "cell_type": "markdown",
   "id": "dfc1d15c-981a-4fb2-a93d-5ad6e6909772",
   "metadata": {},
   "source": [
    "# Bons/mauvais élèves sur les autres variables en controlant du secteur, de la région, de la taille ?"
   ]
  },
  {
   "cell_type": "code",
   "execution_count": 20,
   "id": "1fcc2941-ed20-470c-8ad6-ada61c944b66",
   "metadata": {},
   "outputs": [
    {
     "data": {
      "text/html": [
       "<div>\n",
       "<style scoped>\n",
       "    .dataframe tbody tr th:only-of-type {\n",
       "        vertical-align: middle;\n",
       "    }\n",
       "\n",
       "    .dataframe tbody tr th {\n",
       "        vertical-align: top;\n",
       "    }\n",
       "\n",
       "    .dataframe thead th {\n",
       "        text-align: right;\n",
       "    }\n",
       "</style>\n",
       "<table border=\"1\" class=\"dataframe\">\n",
       "  <thead>\n",
       "    <tr style=\"text-align: right;\">\n",
       "      <th></th>\n",
       "      <th>name_year</th>\n",
       "      <th>company_id</th>\n",
       "      <th>year</th>\n",
       "      <th>company_name</th>\n",
       "      <th>ticker</th>\n",
       "      <th>lei_cici</th>\n",
       "      <th>isin</th>\n",
       "      <th>business_desc</th>\n",
       "      <th>region</th>\n",
       "      <th>hq_country</th>\n",
       "      <th>...</th>\n",
       "      <th>waste_recycling</th>\n",
       "      <th>water_consumption</th>\n",
       "      <th>water_withdrawal</th>\n",
       "      <th>energy_consumption</th>\n",
       "      <th>hours_of_training</th>\n",
       "      <th>gender_pay_gap</th>\n",
       "      <th>independent_board_members_percentage</th>\n",
       "      <th>legal_costs_paid_for_controversies</th>\n",
       "      <th>ceo_compensation</th>\n",
       "      <th>missing</th>\n",
       "    </tr>\n",
       "  </thead>\n",
       "  <tbody>\n",
       "    <tr>\n",
       "      <th>0</th>\n",
       "      <td>Apple Inc._2020</td>\n",
       "      <td>c67ee84d-5cf4-4cd0-85b9-027ad082748f</td>\n",
       "      <td>2020</td>\n",
       "      <td>Apple Inc.</td>\n",
       "      <td>NasdaqGS:AAPL</td>\n",
       "      <td>HWUPKR0MPOU8FGXBT394</td>\n",
       "      <td>US0378331005</td>\n",
       "      <td>Apple Inc. designs, manufactures, and markets ...</td>\n",
       "      <td>United States and Canada</td>\n",
       "      <td>United States</td>\n",
       "      <td>...</td>\n",
       "      <td>28939.8200</td>\n",
       "      <td>4.875000e+06</td>\n",
       "      <td>4.875000e+06</td>\n",
       "      <td>3.019170e+06</td>\n",
       "      <td>144885.5</td>\n",
       "      <td>13.506805</td>\n",
       "      <td>0.008571</td>\n",
       "      <td>0.000000</td>\n",
       "      <td>1.476926e+07</td>\n",
       "      <td>0.0</td>\n",
       "    </tr>\n",
       "    <tr>\n",
       "      <th>1</th>\n",
       "      <td>Apple Inc._2019</td>\n",
       "      <td>c67ee84d-5cf4-4cd0-85b9-027ad082748f</td>\n",
       "      <td>2019</td>\n",
       "      <td>Apple Inc.</td>\n",
       "      <td>NasdaqGS:AAPL</td>\n",
       "      <td>HWUPKR0MPOU8FGXBT394</td>\n",
       "      <td>US0378331005</td>\n",
       "      <td>Apple Inc. designs, manufactures, and markets ...</td>\n",
       "      <td>United States and Canada</td>\n",
       "      <td>United States</td>\n",
       "      <td>...</td>\n",
       "      <td>32806.4100</td>\n",
       "      <td>4.890152e+06</td>\n",
       "      <td>4.992424e+06</td>\n",
       "      <td>2.889680e+06</td>\n",
       "      <td>144885.5</td>\n",
       "      <td>13.869499</td>\n",
       "      <td>0.008571</td>\n",
       "      <td>1.850000</td>\n",
       "      <td>1.155547e+07</td>\n",
       "      <td>0.0</td>\n",
       "    </tr>\n",
       "    <tr>\n",
       "      <th>2</th>\n",
       "      <td>Apple Inc._2018</td>\n",
       "      <td>c67ee84d-5cf4-4cd0-85b9-027ad082748f</td>\n",
       "      <td>2018</td>\n",
       "      <td>Apple Inc.</td>\n",
       "      <td>NasdaqGS:AAPL</td>\n",
       "      <td>HWUPKR0MPOU8FGXBT394</td>\n",
       "      <td>US0378331005</td>\n",
       "      <td>Apple Inc. designs, manufactures, and markets ...</td>\n",
       "      <td>United States and Canada</td>\n",
       "      <td>United States</td>\n",
       "      <td>...</td>\n",
       "      <td>30104.5941</td>\n",
       "      <td>4.765152e+06</td>\n",
       "      <td>4.924242e+06</td>\n",
       "      <td>2.676460e+06</td>\n",
       "      <td>144885.5</td>\n",
       "      <td>21.097915</td>\n",
       "      <td>0.008750</td>\n",
       "      <td>920.013001</td>\n",
       "      <td>1.568222e+07</td>\n",
       "      <td>0.0</td>\n",
       "    </tr>\n",
       "    <tr>\n",
       "      <th>3</th>\n",
       "      <td>Saudi Arabian Oil Company_2020</td>\n",
       "      <td>9ea5e71e-33ac-4916-9c58-50ce9fa54abe</td>\n",
       "      <td>2020</td>\n",
       "      <td>Saudi Arabian Oil Company</td>\n",
       "      <td>SASE:2222</td>\n",
       "      <td>5586006WD91QHB7J4X50</td>\n",
       "      <td>SA14TG012N13</td>\n",
       "      <td>Saudi Arabian Oil Company operates as an integ...</td>\n",
       "      <td>Africa / Middle East</td>\n",
       "      <td>Saudi Arabia</td>\n",
       "      <td>...</td>\n",
       "      <td>15309.0000</td>\n",
       "      <td>3.615000e+07</td>\n",
       "      <td>3.615000e+07</td>\n",
       "      <td>1.495640e+08</td>\n",
       "      <td>144885.5</td>\n",
       "      <td>-1.690225</td>\n",
       "      <td>0.454540</td>\n",
       "      <td>0.000000</td>\n",
       "      <td>2.199049e+08</td>\n",
       "      <td>0.0</td>\n",
       "    </tr>\n",
       "    <tr>\n",
       "      <th>4</th>\n",
       "      <td>Saudi Arabian Oil Company_2019</td>\n",
       "      <td>9ea5e71e-33ac-4916-9c58-50ce9fa54abe</td>\n",
       "      <td>2019</td>\n",
       "      <td>Saudi Arabian Oil Company</td>\n",
       "      <td>SASE:2222</td>\n",
       "      <td>5586006WD91QHB7J4X50</td>\n",
       "      <td>SA14TG012N13</td>\n",
       "      <td>Saudi Arabian Oil Company operates as an integ...</td>\n",
       "      <td>Africa / Middle East</td>\n",
       "      <td>Saudi Arabia</td>\n",
       "      <td>...</td>\n",
       "      <td>15309.0000</td>\n",
       "      <td>7.842800e+08</td>\n",
       "      <td>3.104395e+09</td>\n",
       "      <td>1.212160e+08</td>\n",
       "      <td>144885.5</td>\n",
       "      <td>19.982123</td>\n",
       "      <td>0.454540</td>\n",
       "      <td>1228.533586</td>\n",
       "      <td>2.015694e+07</td>\n",
       "      <td>0.0</td>\n",
       "    </tr>\n",
       "  </tbody>\n",
       "</table>\n",
       "<p>5 rows × 28 columns</p>\n",
       "</div>"
      ],
      "text/plain": [
       "                        name_year                            company_id  year  \\\n",
       "0                 Apple Inc._2020  c67ee84d-5cf4-4cd0-85b9-027ad082748f  2020   \n",
       "1                 Apple Inc._2019  c67ee84d-5cf4-4cd0-85b9-027ad082748f  2019   \n",
       "2                 Apple Inc._2018  c67ee84d-5cf4-4cd0-85b9-027ad082748f  2018   \n",
       "3  Saudi Arabian Oil Company_2020  9ea5e71e-33ac-4916-9c58-50ce9fa54abe  2020   \n",
       "4  Saudi Arabian Oil Company_2019  9ea5e71e-33ac-4916-9c58-50ce9fa54abe  2019   \n",
       "\n",
       "                company_name         ticker              lei_cici  \\\n",
       "0                 Apple Inc.  NasdaqGS:AAPL  HWUPKR0MPOU8FGXBT394   \n",
       "1                 Apple Inc.  NasdaqGS:AAPL  HWUPKR0MPOU8FGXBT394   \n",
       "2                 Apple Inc.  NasdaqGS:AAPL  HWUPKR0MPOU8FGXBT394   \n",
       "3  Saudi Arabian Oil Company      SASE:2222  5586006WD91QHB7J4X50   \n",
       "4  Saudi Arabian Oil Company      SASE:2222  5586006WD91QHB7J4X50   \n",
       "\n",
       "           isin                                      business_desc  \\\n",
       "0  US0378331005  Apple Inc. designs, manufactures, and markets ...   \n",
       "1  US0378331005  Apple Inc. designs, manufactures, and markets ...   \n",
       "2  US0378331005  Apple Inc. designs, manufactures, and markets ...   \n",
       "3  SA14TG012N13  Saudi Arabian Oil Company operates as an integ...   \n",
       "4  SA14TG012N13  Saudi Arabian Oil Company operates as an integ...   \n",
       "\n",
       "                     region     hq_country  ... waste_recycling  \\\n",
       "0  United States and Canada  United States  ...      28939.8200   \n",
       "1  United States and Canada  United States  ...      32806.4100   \n",
       "2  United States and Canada  United States  ...      30104.5941   \n",
       "3      Africa / Middle East   Saudi Arabia  ...      15309.0000   \n",
       "4      Africa / Middle East   Saudi Arabia  ...      15309.0000   \n",
       "\n",
       "   water_consumption  water_withdrawal  energy_consumption  hours_of_training  \\\n",
       "0       4.875000e+06      4.875000e+06        3.019170e+06           144885.5   \n",
       "1       4.890152e+06      4.992424e+06        2.889680e+06           144885.5   \n",
       "2       4.765152e+06      4.924242e+06        2.676460e+06           144885.5   \n",
       "3       3.615000e+07      3.615000e+07        1.495640e+08           144885.5   \n",
       "4       7.842800e+08      3.104395e+09        1.212160e+08           144885.5   \n",
       "\n",
       "   gender_pay_gap  independent_board_members_percentage  \\\n",
       "0       13.506805                              0.008571   \n",
       "1       13.869499                              0.008571   \n",
       "2       21.097915                              0.008750   \n",
       "3       -1.690225                              0.454540   \n",
       "4       19.982123                              0.454540   \n",
       "\n",
       "   legal_costs_paid_for_controversies  ceo_compensation  missing  \n",
       "0                            0.000000      1.476926e+07      0.0  \n",
       "1                            1.850000      1.155547e+07      0.0  \n",
       "2                          920.013001      1.568222e+07      0.0  \n",
       "3                            0.000000      2.199049e+08      0.0  \n",
       "4                         1228.533586      2.015694e+07      0.0  \n",
       "\n",
       "[5 rows x 28 columns]"
      ]
     },
     "execution_count": 20,
     "metadata": {},
     "output_type": "execute_result"
    }
   ],
   "source": [
    "# Variables disponibles\n",
    "# variables_disponibles = [\"market_cap\", \"employees\", \"revenue\", \"scope_1\", \"scope_2\", \"scope_3\",\n",
    "#                         \"waste_production\", \"waste_recycling\", \"water_consumption\",\n",
    "#                         \"water_withdrawal\", \"energy_consumption\", \"hours_of_training\",\n",
    "#                         \"gender_pay_gap\", \"independent_board_members_percentage\",\n",
    "#                         \"legal_costs_paid_for_controversies\", \"ceo_compensation\"]\n",
    "\n",
    "# Autres varia sociales : \n",
    "# Hours of training per employee \n",
    "# ceo compensation\n",
    "\n",
    "# varia ecolo:\n",
    "# scope 1/2/3\n",
    "\n",
    "\n"
   ]
  }
 ],
 "metadata": {
  "kernelspec": {
   "display_name": "Python 3 (ipykernel)",
   "language": "python",
   "name": "python3"
  },
  "language_info": {
   "codemirror_mode": {
    "name": "ipython",
    "version": 3
   },
   "file_extension": ".py",
   "mimetype": "text/x-python",
   "name": "python",
   "nbconvert_exporter": "python",
   "pygments_lexer": "ipython3",
   "version": "3.11.6"
  }
 },
 "nbformat": 4,
 "nbformat_minor": 5
}
