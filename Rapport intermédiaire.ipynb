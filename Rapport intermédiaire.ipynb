{
 "cells": [
  {
   "cell_type": "code",
   "execution_count": 1,
   "id": "2dab2ff3-01d5-4a38-823b-e4083b400bda",
   "metadata": {},
   "outputs": [
    {
     "name": "stdout",
     "output_type": "stream",
     "text": [
      "Requirement already satisfied: openpyxl in /opt/mamba/lib/python3.11/site-packages (3.1.2)\n",
      "Requirement already satisfied: et-xmlfile in /opt/mamba/lib/python3.11/site-packages (from openpyxl) (1.1.0)\n"
     ]
    }
   ],
   "source": [
    "import numpy as np\n",
    "import pandas as pd\n",
    "import matplotlib.pyplot as plt\n",
    "import seaborn as sns\n",
    "import statsmodels.api as sm\n",
    "\n",
    "!pip install openpyxl"
   ]
  },
  {
   "cell_type": "code",
   "execution_count": 3,
   "id": "768837fd-024a-4ce1-818a-71f316a20f16",
   "metadata": {},
   "outputs": [],
   "source": [
    "data = pd.read_excel(\"data/ESG_raw_data_07_02.xlsx\")"
   ]
  },
  {
   "cell_type": "code",
   "execution_count": 4,
   "id": "b846c20e-0424-46b5-a8df-82fa323db1b2",
   "metadata": {},
   "outputs": [],
   "source": [
    "variables = [\"scope_1\", \"scope_2\", \"scope_3\", \"waste_production\",\n",
    "             \"waste_recycling\", \"water_consumption\", \"water_withdrawal\",\n",
    "             \"energy_consumption\", \"hours_of_training\", \"independent_board_members_percentage\",\n",
    "             \"legal_costs_paid_for_controversies\", \"ceo_compensation\", \"gender_pay_gap\"]\n",
    "\n",
    "variables_env =  [\"scope_1\", \"scope_2\", \"scope_3\", \"waste_production\",\n",
    "             \"waste_recycling\", \"water_consumption\", \"water_withdrawal\",\n",
    "             \"energy_consumption\"]"
   ]
  },
  {
   "cell_type": "code",
   "execution_count": 9,
   "id": "109a8093-6c3c-4ce1-ab96-a5793021608f",
   "metadata": {},
   "outputs": [],
   "source": [
    "def isnan(num) :\n",
    "    if num != num : \n",
    "        return True\n",
    "    else :\n",
    "        return False\n",
    "\n",
    "def isntnan(num) :\n",
    "    return bool(1 - int(isnan(num)))\n",
    "\n",
    "def nanin(col) :\n",
    "    for x in col :\n",
    "        if isnan(x) :\n",
    "            return True\n",
    "    return False"
   ]
  },
  {
   "cell_type": "markdown",
   "id": "976f71ff-45b3-4b41-b925-7c0f67a17164",
   "metadata": {},
   "source": [
    "# Un peu de Statdesc pour commencer"
   ]
  },
  {
   "cell_type": "code",
   "execution_count": null,
   "id": "4e9025ef-3d61-458d-b156-d89c3054eaf2",
   "metadata": {},
   "outputs": [],
   "source": []
  },
  {
   "cell_type": "code",
   "execution_count": null,
   "id": "5fc4d901-53a8-41c4-b7cb-a2cc0962c319",
   "metadata": {},
   "outputs": [],
   "source": []
  },
  {
   "cell_type": "code",
   "execution_count": null,
   "id": "3aad1a25-ce0b-4971-b35f-b9ae42cb905d",
   "metadata": {},
   "outputs": [],
   "source": []
  },
  {
   "cell_type": "code",
   "execution_count": null,
   "id": "638a02c3-1e60-48fa-adbb-0811e7adeb14",
   "metadata": {},
   "outputs": [],
   "source": []
  },
  {
   "cell_type": "markdown",
   "id": "a8950537-83bd-4a85-8d8d-afe24c315161",
   "metadata": {},
   "source": [
    "# Manque d'information et industries polluantes"
   ]
  },
  {
   "cell_type": "markdown",
   "id": "eccb807e-a161-4f00-9c2c-d8f23d2dfe50",
   "metadata": {},
   "source": [
    "On étudie la relation entre le manque d'information sur le \"gender_pay_gap\" et le fait qu'une industrie soit particulièrement polluante ou non, i.e si son \"scope_1\" moyen est élevé.\n",
    "\n",
    "Pour commencer, je vais \"normaliser\" toutes les variables quantitatives par le nombre d'employés dans l'entreprise, afin que ces grandeurs puissent être comparées. Il est important de noter que je ne renomme pas ces variables."
   ]
  },
  {
   "cell_type": "code",
   "execution_count": 6,
   "id": "0673c2b2-b70f-4ed7-88f9-6709bbad9ff2",
   "metadata": {},
   "outputs": [
    {
     "data": {
      "text/plain": [
       "0    47430.0\n",
       "1    52730.0\n",
       "2    57440.0\n",
       "3    49100.0\n",
       "4    44700.0\n",
       "Name: scope_1, dtype: float64"
      ]
     },
     "execution_count": 6,
     "metadata": {},
     "output_type": "execute_result"
    }
   ],
   "source": [
    "data[\"scope_1\"].head(5)"
   ]
  },
  {
   "cell_type": "code",
   "execution_count": 7,
   "id": "ad921e6e-0916-4006-a7c4-eff6671c0150",
   "metadata": {},
   "outputs": [],
   "source": [
    "df = data\n",
    "for x in variables_env :\n",
    "    df[x] = df[x]/df['employees']"
   ]
  },
  {
   "cell_type": "code",
   "execution_count": 8,
   "id": "e54d49d3-cfd3-4514-bf43-6d75c8963808",
   "metadata": {},
   "outputs": [
    {
     "data": {
      "text/plain": [
       "0    0.322653\n",
       "1    0.384891\n",
       "2    0.435152\n",
       "3    0.735030\n",
       "4    0.565823\n",
       "Name: scope_1, dtype: float64"
      ]
     },
     "execution_count": 8,
     "metadata": {},
     "output_type": "execute_result"
    }
   ],
   "source": [
    "df[\"scope_1\"].head(5)"
   ]
  },
  {
   "cell_type": "markdown",
   "id": "1578cd07-c83a-4248-bfc7-6bc9fa991880",
   "metadata": {},
   "source": [
    "On calcule alors les moyennes de données manquantes pour le \"gender_pay_gap\" et pour le \"scope_1\" par industrie."
   ]
  },
  {
   "cell_type": "code",
   "execution_count": 10,
   "id": "196537ca-42ff-4923-b85b-8c7d549d03bb",
   "metadata": {},
   "outputs": [],
   "source": [
    "missing_mean = df.groupby('primary_industry')['gender_pay_gap'].apply(lambda x: x.isnull().mean())\n",
    "scope_1_mean = df.groupby('primary_industry')['scope_1'].mean()"
   ]
  },
  {
   "cell_type": "code",
   "execution_count": 25,
   "id": "3b5052b0-96a2-4149-b139-3e1c11de2402",
   "metadata": {},
   "outputs": [
    {
     "name": "stdout",
     "output_type": "stream",
     "text": [
      "primary_industry\n",
      "Insurance Brokers                                     0.123478\n",
      "Diversified Capital Markets                           0.210797\n",
      "Systems Software                                      0.220121\n",
      "Asset Management and Custody Banks                    0.253842\n",
      "Apparel Retail                                        0.377051\n",
      "                                                      ...     \n",
      "Independent Power Producers and Energy Traders     5056.270213\n",
      "Gold                                               7292.832339\n",
      "Marine                                            12240.532480\n",
      "Oil and Gas Storage and Transportation            13145.662761\n",
      "Electric Utilities                                15354.066107\n",
      "Name: scope_1, Length: 151, dtype: float64\n"
     ]
    }
   ],
   "source": [
    "scope_1_mean = scope_1_mean.dropna()\n",
    "print(scope_1_mean.sort_values())"
   ]
  },
  {
   "cell_type": "markdown",
   "id": "204b07ee-83e7-4d08-a5af-4e8cbb5326e8",
   "metadata": {},
   "source": [
    "Et on plot tout ça."
   ]
  },
  {
   "cell_type": "code",
   "execution_count": 26,
   "id": "c7877ab2-b886-4a2d-b4d2-aa158d328ac5",
   "metadata": {},
   "outputs": [
    {
     "data": {
      "image/png": "[encoded data removed]",
      "text/plain": [
       "<Figure size 640x480 with 1 Axes>"
      ]
     },
     "metadata": {},
     "output_type": "display_data"
    }
   ],
   "source": [
    "sns.scatterplot(x = scope_1_mean, y = missing_mean, hue = missing_mean.index, palette = 'viridis', s = 100)\n",
    "plt.xlabel('Moyenne de \"scope_1\"')\n",
    "plt.ylabel('Proportion moyenne de données manquantes')\n",
    "plt.title('Relation entre la moyenne de \"scope_1\" et les données manquantes pour \"gender_pay_gap\" par industrie')\n",
    "plt.legend('')\n",
    "#plt.ylim((-10, 2000))\n",
    "plt.show()"
   ]
  },
  {
   "cell_type": "markdown",
   "id": "85f91114-29e6-4dec-88a5-8934c592ccf6",
   "metadata": {},
   "source": [
    "On peut alors effectuer des régressions, on va contrôler sur la région et sur l'année. On en effectue deux : une simple et une avec le \"scope_1\" en log. Ces régressions sont faites sur chaque entreprise, avec en $Y$ une variable binaire : le fait d'avoir ou non la donnée sur le \"gender_pay_gap\" et en co-variables : le \"scope_1\" de l'entreprise (normalisé par son nombre d'employés), la région, l'année. "
   ]
  },
  {
   "cell_type": "code",
   "execution_count": 39,
   "id": "424b9692-3916-4712-94b2-7de83837f0e1",
   "metadata": {},
   "outputs": [
    {
     "name": "stderr",
     "output_type": "stream",
     "text": [
      "/opt/mamba/lib/python3.11/site-packages/pandas/core/arraylike.py:399: RuntimeWarning: divide by zero encountered in log\n",
      "  result = getattr(ufunc, method)(*inputs, **kwargs)\n",
      "/tmp/ipykernel_2885/3473654432.py:5: SettingWithCopyWarning: \n",
      "A value is trying to be set on a copy of a slice from a DataFrame.\n",
      "Try using .loc[row_indexer,col_indexer] = value instead\n",
      "\n",
      "See the caveats in the documentation: https://pandas.pydata.org/pandas-docs/stable/user_guide/indexing.html#returning-a-view-versus-a-copy\n",
      "  df2['scope_1_log'] = np.log(df2['scope_1'])\n"
     ]
    },
    {
     "name": "stdout",
     "output_type": "stream",
     "text": [
      "                            OLS Regression Results                            \n",
      "==============================================================================\n",
      "Dep. Variable:                missing   R-squared:                       0.057\n",
      "Model:                            OLS   Adj. R-squared:                  0.057\n",
      "Method:                 Least Squares   F-statistic:                     93.20\n",
      "Date:                Sun, 11 Feb 2024   Prob (F-statistic):          1.56e-132\n",
      "Time:                        14:43:16   Log-Likelihood:                 3354.3\n",
      "No. Observations:               10705   AIC:                            -6693.\n",
      "Df Residuals:                   10697   BIC:                            -6634.\n",
      "Df Model:                           7                                         \n",
      "Covariance Type:            nonrobust                                         \n",
      "======================================================================================================\n",
      "                                         coef    std err          t      P>|t|      [0.025      0.975]\n",
      "------------------------------------------------------------------------------------------------------\n",
      "const                                  0.9975      0.011     93.485      0.000       0.977       1.018\n",
      "scope_1                             5.672e-08   1.08e-07      0.527      0.598   -1.54e-07    2.68e-07\n",
      "region_Asia / Pacific                  0.0176      0.010      1.707      0.088      -0.003       0.038\n",
      "region_Europe                         -0.0879      0.011     -8.366      0.000      -0.109      -0.067\n",
      "region_Latin America and Caribbean    -0.0008      0.014     -0.055      0.956      -0.028       0.027\n",
      "region_United States and Canada        0.0116      0.010      1.114      0.265      -0.009       0.032\n",
      "year_2019                             -0.0185      0.006     -3.094      0.002      -0.030      -0.007\n",
      "year_2020                             -0.0243      0.005     -5.065      0.000      -0.034      -0.015\n",
      "==============================================================================\n",
      "Omnibus:                     9803.746   Durbin-Watson:                   1.397\n",
      "Prob(Omnibus):                  0.000   Jarque-Bera (JB):           243596.215\n",
      "Skew:                          -4.660   Prob(JB):                         0.00\n",
      "Kurtosis:                      24.430   Cond. No.                     2.13e+05\n",
      "==============================================================================\n",
      "\n",
      "Notes:\n",
      "[1] Standard Errors assume that the covariance matrix of the errors is correctly specified.\n",
      "[2] The condition number is large, 2.13e+05. This might indicate that there are\n",
      "strong multicollinearity or other numerical problems.\n",
      "                            OLS Regression Results                            \n",
      "==============================================================================\n",
      "Dep. Variable:                missing   R-squared:                       0.059\n",
      "Model:                            OLS   Adj. R-squared:                  0.059\n",
      "Method:                 Least Squares   F-statistic:                     95.91\n",
      "Date:                Sun, 11 Feb 2024   Prob (F-statistic):          2.24e-136\n",
      "Time:                        14:43:16   Log-Likelihood:                 3349.5\n",
      "No. Observations:               10687   AIC:                            -6683.\n",
      "Df Residuals:                   10679   BIC:                            -6625.\n",
      "Df Model:                           7                                         \n",
      "Covariance Type:            nonrobust                                         \n",
      "======================================================================================================\n",
      "                                         coef    std err          t      P>|t|      [0.025      0.975]\n",
      "------------------------------------------------------------------------------------------------------\n",
      "const                                  1.0025      0.011     93.389      0.000       0.981       1.024\n",
      "scope_1_log                            0.0021      0.000      4.185      0.000       0.001       0.003\n",
      "region_Asia / Pacific                  0.0148      0.010      1.432      0.152      -0.005       0.035\n",
      "region_Europe                         -0.0939      0.011     -8.856      0.000      -0.115      -0.073\n",
      "region_Latin America and Caribbean    -0.0020      0.014     -0.144      0.886      -0.030       0.026\n",
      "region_United States and Canada        0.0086      0.010      0.821      0.412      -0.012       0.029\n",
      "year_2019                             -0.0180      0.006     -3.013      0.003      -0.030      -0.006\n",
      "year_2020                             -0.0277      0.005     -5.695      0.000      -0.037      -0.018\n",
      "==============================================================================\n",
      "Omnibus:                     9756.457   Durbin-Watson:                   1.397\n",
      "Prob(Omnibus):                  0.000   Jarque-Bera (JB):           240178.581\n",
      "Skew:                          -4.641   Prob(JB):                         0.00\n",
      "Kurtosis:                      24.289   Cond. No.                         48.5\n",
      "==============================================================================\n",
      "\n",
      "Notes:\n",
      "[1] Standard Errors assume that the covariance matrix of the errors is correctly specified.\n"
     ]
    }
   ],
   "source": [
    "df2 = df\n",
    "\n",
    "df2['missing'] = df2['gender_pay_gap'].isnull().astype(float)\n",
    "df2 = df2.dropna(subset=['scope_1'])\n",
    "df2['scope_1_log'] = np.log(df2['scope_1'])\n",
    "\n",
    "# Régressions linéaires avec contrôle sur la région et l'année\n",
    "X1 = df2[['scope_1', 'region', 'year']]\n",
    "X1 = pd.get_dummies(X1, columns=['region', 'year'], drop_first=True, dtype=float)\n",
    "X1 = sm.add_constant(X1)\n",
    "\n",
    "X2 = df2[['scope_1_log', 'region', 'year']]\n",
    "X2 = pd.get_dummies(X2, columns=['region', 'year'], drop_first=True, dtype=float)\n",
    "X2 = sm.add_constant(X2)\n",
    "\n",
    "y1 = df2['missing']\n",
    "\n",
    "model1 = sm.OLS(y1, X1).fit()\n",
    "\n",
    "# Pour le log, on doit filtrer les valeurs Nan car il y avait des \"scope_1\" égaux à 0\n",
    "mask = ~X2.isin([np.nan, np.inf, -np.inf]).any(axis=1)\n",
    "X2 = X2[mask]\n",
    "y2 = df2['missing'][mask]\n",
    "model2 = sm.OLS(y2, X2).fit()\n",
    "\n",
    "print(model1.summary())\n",
    "print(model2.summary())"
   ]
  },
  {
   "cell_type": "code",
   "execution_count": null,
   "id": "25de70f2-993c-49de-b1d4-ff0dd44ce5fe",
   "metadata": {},
   "outputs": [],
   "source": []
  }
 ],
 "metadata": {
  "kernelspec": {
   "display_name": "Python 3 (ipykernel)",
   "language": "python",
   "name": "python3"
  },
  "language_info": {
   "codemirror_mode": {
    "name": "ipython",
    "version": 3
   },
   "file_extension": ".py",
   "mimetype": "text/x-python",
   "name": "python",
   "nbconvert_exporter": "python",
   "pygments_lexer": "ipython3",
   "version": "3.11.6"
  }
 },
 "nbformat": 4,
 "nbformat_minor": 5
}
