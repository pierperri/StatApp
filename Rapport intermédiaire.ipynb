{
 "cells": [
  {
   "cell_type": "code",
   "execution_count": 135,
   "id": "2dab2ff3-01d5-4a38-823b-e4083b400bda",
   "metadata": {},
   "outputs": [
    {
     "name": "stdout",
     "output_type": "stream",
     "text": [
      "Requirement already satisfied: openpyxl in /opt/mamba/lib/python3.11/site-packages (3.1.2)\n",
      "Requirement already satisfied: et-xmlfile in /opt/mamba/lib/python3.11/site-packages (from openpyxl) (1.1.0)\n"
     ]
    }
   ],
   "source": [
    "import numpy as np\n",
    "import pandas as pd\n",
    "import matplotlib.pyplot as plt\n",
    "import seaborn as sns\n",
    "import statsmodels.api as sm\n",
    "\n",
    "!pip install openpyxl"
   ]
  },
  {
   "cell_type": "code",
   "execution_count": 136,
   "id": "768837fd-024a-4ce1-818a-71f316a20f16",
   "metadata": {},
   "outputs": [],
   "source": [
    "data = pd.read_excel(\"data/ESG_raw_data_07_02.xlsx\")"
   ]
  },
  {
   "cell_type": "code",
   "execution_count": 137,
   "id": "b846c20e-0424-46b5-a8df-82fa323db1b2",
   "metadata": {},
   "outputs": [],
   "source": [
    "variables = [\"scope_1\", \"scope_2\", \"scope_3\", \"waste_production\",\n",
    "             \"waste_recycling\", \"water_consumption\", \"water_withdrawal\",\n",
    "             \"energy_consumption\", \"hours_of_training\", \"independent_board_members_percentage\",\n",
    "             \"legal_costs_paid_for_controversies\", \"ceo_compensation\", \"gender_pay_gap\"]\n",
    "\n",
    "variables_env =  [\"scope_1\", \"scope_2\", \"scope_3\", \"waste_production\",\n",
    "             \"waste_recycling\", \"water_consumption\", \"water_withdrawal\",\n",
    "             \"energy_consumption\"]"
   ]
  },
  {
   "cell_type": "markdown",
   "id": "976f71ff-45b3-4b41-b925-7c0f67a17164",
   "metadata": {},
   "source": [
    "# Un peu de Statdesc pour commencer"
   ]
  },
  {
   "cell_type": "code",
   "execution_count": null,
   "id": "4e9025ef-3d61-458d-b156-d89c3054eaf2",
   "metadata": {},
   "outputs": [],
   "source": []
  },
  {
   "cell_type": "code",
   "execution_count": null,
   "id": "5fc4d901-53a8-41c4-b7cb-a2cc0962c319",
   "metadata": {},
   "outputs": [],
   "source": []
  },
  {
   "cell_type": "code",
   "execution_count": null,
   "id": "3aad1a25-ce0b-4971-b35f-b9ae42cb905d",
   "metadata": {},
   "outputs": [],
   "source": []
  },
  {
   "cell_type": "code",
   "execution_count": null,
   "id": "638a02c3-1e60-48fa-adbb-0811e7adeb14",
   "metadata": {},
   "outputs": [],
   "source": []
  },
  {
   "cell_type": "markdown",
   "id": "a8950537-83bd-4a85-8d8d-afe24c315161",
   "metadata": {},
   "source": [
    "# Manque d'information et industries polluantes"
   ]
  },
  {
   "cell_type": "markdown",
   "id": "eccb807e-a161-4f00-9c2c-d8f23d2dfe50",
   "metadata": {},
   "source": [
    "On étudie la relation entre le manque d'information sur le \"gender_pay_gap\" et le fait qu'une industrie soit particulièrement polluante ou non, i.e si son \"scope_1\" moyen est élevé.\n",
    "\n",
    "Pour commencer, je vais \"normaliser\" toutes les variables quantitatives par le nombre d'employés dans l'entreprise, afin que ces grandeurs puissent être comparées. Il est important de noter que je ne renomme pas ces variables."
   ]
  },
  {
   "cell_type": "code",
   "execution_count": 138,
   "id": "0673c2b2-b70f-4ed7-88f9-6709bbad9ff2",
   "metadata": {},
   "outputs": [
    {
     "data": {
      "text/plain": [
       "0    47430.0\n",
       "1    52730.0\n",
       "2    57440.0\n",
       "3    49100.0\n",
       "4    44700.0\n",
       "Name: scope_1, dtype: float64"
      ]
     },
     "execution_count": 138,
     "metadata": {},
     "output_type": "execute_result"
    }
   ],
   "source": [
    "data[\"scope_1\"].head(5)"
   ]
  },
  {
   "cell_type": "code",
   "execution_count": 139,
   "id": "ad921e6e-0916-4006-a7c4-eff6671c0150",
   "metadata": {},
   "outputs": [],
   "source": [
    "df = data\n",
    "for x in variables_env :\n",
    "    df[x] = df[x]/df['employees']\n",
    "    df = df.rename(columns={x: x + '_per_capita'})"
   ]
  },
  {
   "cell_type": "code",
   "execution_count": 140,
   "id": "e54d49d3-cfd3-4514-bf43-6d75c8963808",
   "metadata": {},
   "outputs": [
    {
     "data": {
      "text/plain": [
       "0    0.322653\n",
       "1    0.384891\n",
       "2    0.435152\n",
       "3    0.735030\n",
       "4    0.565823\n",
       "Name: scope_1_per_capita, dtype: float64"
      ]
     },
     "execution_count": 140,
     "metadata": {},
     "output_type": "execute_result"
    }
   ],
   "source": [
    "df[\"scope_1_per_capita\"].head(5)"
   ]
  },
  {
   "cell_type": "markdown",
   "id": "1578cd07-c83a-4248-bfc7-6bc9fa991880",
   "metadata": {},
   "source": [
    "On calcule alors les moyennes de données manquantes pour le \"gender_pay_gap\" et pour le \"scope_1\" par industrie."
   ]
  },
  {
   "cell_type": "code",
   "execution_count": 141,
   "id": "196537ca-42ff-4923-b85b-8c7d549d03bb",
   "metadata": {},
   "outputs": [],
   "source": [
    "missing_mean = df.groupby('primary_industry')['gender_pay_gap'].apply(lambda x: x.isnull().mean())\n",
    "scope_1_mean = df.groupby('primary_industry')['scope_1_per_capita'].mean()"
   ]
  },
  {
   "cell_type": "code",
   "execution_count": 142,
   "id": "3b5052b0-96a2-4149-b139-3e1c11de2402",
   "metadata": {},
   "outputs": [
    {
     "name": "stdout",
     "output_type": "stream",
     "text": [
      "primary_industry\n",
      "Insurance Brokers                                     0.123478\n",
      "Diversified Capital Markets                           0.210797\n",
      "Systems Software                                      0.220121\n",
      "Asset Management and Custody Banks                    0.253842\n",
      "Apparel Retail                                        0.377051\n",
      "                                                      ...     \n",
      "Independent Power Producers and Energy Traders     5056.270213\n",
      "Gold                                               7292.832339\n",
      "Marine                                            12240.532480\n",
      "Oil and Gas Storage and Transportation            13145.662761\n",
      "Electric Utilities                                15354.066107\n",
      "Name: scope_1_per_capita, Length: 151, dtype: float64\n"
     ]
    }
   ],
   "source": [
    "scope_1_mean = scope_1_mean.dropna()\n",
    "print(scope_1_mean.sort_values())\n",
    "scope_1_mean_log = np.log(scope_1_mean)"
   ]
  },
  {
   "cell_type": "markdown",
   "id": "204b07ee-83e7-4d08-a5af-4e8cbb5326e8",
   "metadata": {},
   "source": [
    "Et on plot tout ça."
   ]
  },
  {
   "cell_type": "code",
   "execution_count": 143,
   "id": "c7877ab2-b886-4a2d-b4d2-aa158d328ac5",
   "metadata": {},
   "outputs": [
    {
     "data": {
      "image/png": "[encoded data removed]",
      "text/plain": [
       "<Figure size 640x480 with 1 Axes>"
      ]
     },
     "metadata": {},
     "output_type": "display_data"
    }
   ],
   "source": [
    "sns.scatterplot(x = scope_1_mean_log, y = missing_mean, hue = missing_mean.index, palette = 'viridis', s = 100)\n",
    "plt.xlabel('Log des moyennes de \"scope_1\"')\n",
    "plt.ylabel('Proportion moyenne de données manquantes')\n",
    "plt.title('Relation entre la moyenne de \"scope_1\" et les données manquantes pour \"gender_pay_gap\" par industrie')\n",
    "plt.legend('')\n",
    "#plt.ylim((-10, 2000))\n",
    "plt.show()"
   ]
  },
  {
   "cell_type": "markdown",
   "id": "85f91114-29e6-4dec-88a5-8934c592ccf6",
   "metadata": {},
   "source": [
    "On peut alors effectuer des régressions, on va contrôler sur la région et sur l'année. On en effectue deux : une simple et une avec le \"scope_1\" en log. Ces régressions sont faites sur chaque entreprise, avec en $Y$ une variable binaire : le fait d'avoir ou non la donnée sur le \"gender_pay_gap\" et en co-variables : le \"scope_1\" de l'entreprise (normalisé par son nombre d'employés), la région, l'année. "
   ]
  },
  {
   "cell_type": "code",
   "execution_count": 144,
   "id": "424b9692-3916-4712-94b2-7de83837f0e1",
   "metadata": {},
   "outputs": [
    {
     "name": "stderr",
     "output_type": "stream",
     "text": [
      "/opt/mamba/lib/python3.11/site-packages/pandas/core/arraylike.py:399: RuntimeWarning: divide by zero encountered in log\n",
      "  result = getattr(ufunc, method)(*inputs, **kwargs)\n",
      "/tmp/ipykernel_2885/2745784115.py:7: SettingWithCopyWarning: \n",
      "A value is trying to be set on a copy of a slice from a DataFrame.\n",
      "Try using .loc[row_indexer,col_indexer] = value instead\n",
      "\n",
      "See the caveats in the documentation: https://pandas.pydata.org/pandas-docs/stable/user_guide/indexing.html#returning-a-view-versus-a-copy\n",
      "  df2['scope_1_per_capita_log'] = np.log(df2['scope_1_per_capita'])\n",
      "/opt/mamba/lib/python3.11/site-packages/statsmodels/base/model.py:1896: ValueWarning: covariance of constraints does not have full rank. The number of constraints is 157, but rank is 2\n",
      "  warnings.warn('covariance of constraints does not have full '\n"
     ]
    },
    {
     "name": "stdout",
     "output_type": "stream",
     "text": [
      "                            OLS Regression Results                            \n",
      "==============================================================================\n",
      "Dep. Variable:                missing   R-squared:                       0.094\n",
      "Model:                            OLS   Adj. R-squared:                  0.081\n",
      "Method:                 Least Squares   F-statistic:                 3.269e+12\n",
      "Date:                Wed, 14 Feb 2024   Prob (F-statistic):           3.06e-13\n",
      "Time:                        12:43:11   Log-Likelihood:                 3554.1\n",
      "No. Observations:               10687   AIC:                            -6792.\n",
      "Df Residuals:                   10529   BIC:                            -5643.\n",
      "Df Model:                         157                                         \n",
      "Covariance Type:              cluster                                         \n",
      "===================================================================================================================================\n",
      "                                                                      coef    std err          z      P>|z|      [0.025      0.975]\n",
      "-----------------------------------------------------------------------------------------------------------------------------------\n",
      "const                                                               0.9962      0.023     43.776      0.000       0.952       1.041\n",
      "scope_1_per_capita_log                                              0.0039      0.001      6.106      0.000       0.003       0.005\n"
     ]
    }
   ],
   "source": [
    "from statsmodels.stats import sandwich_covariance\n",
    "\n",
    "df2 = df\n",
    "\n",
    "df2['missing'] = df2['gender_pay_gap'].isnull().astype(float)\n",
    "df2 = df2.dropna(subset=['scope_1_per_capita'])\n",
    "df2['scope_1_per_capita_log'] = np.log(df2['scope_1_per_capita'])\n",
    "\n",
    "# Régressions linéaires avec contrôle sur la région et l'année\n",
    "X1 = df2[['scope_1_per_capita', 'region', 'year', 'primary_industry']]\n",
    "X1 = pd.get_dummies(X1, columns=['region', 'year', 'primary_industry'], drop_first=True, dtype=float)\n",
    "X1 = sm.add_constant(X1)\n",
    "\n",
    "y1 = df2['missing']\n",
    "\n",
    "model1 = sm.OLS(y1, X1).fit()\n",
    "\n",
    "X2 = df2[['scope_1_per_capita_log', 'region', 'year', 'primary_industry']]\n",
    "X2 = pd.get_dummies(X2, columns=['region', 'year', 'primary_industry'], drop_first=True, dtype=float)\n",
    "X2 = sm.add_constant(X2)\n",
    "\n",
    "# Pour le log, on doit filtrer les valeurs Nan car il y avait des \"scope_1\" égaux à 0\n",
    "mask = ~X2.isin([np.nan, np.inf, -np.inf]).any(axis=1)\n",
    "X2 = X2[mask]\n",
    "y2 = df2['missing'][mask]\n",
    "\n",
    "\n",
    "model_clustered_2 = sm.OLS(y2, X2).fit(cov_type='cluster',\n",
    "                          cov_kwds={'groups': df2['year'][mask]})\n",
    "\n",
    "# C'est très très moche comme facon de display le truc mais ca m'a saoulé mdr\n",
    "for line in model_clustered_2.summary().as_text().splitlines()[:16]:\n",
    "    print(line[:])\n",
    "\n",
    "# On peut aussi utiliser le PanelOlS du package linearmodels mais ca m'a deja trop saoulé là -> la\n",
    "# correction ne permettra que de corriger légèrement la variance mais ca devrait pas changer grand chose\n"
   ]
  },
  {
   "cell_type": "markdown",
   "id": "a4f82799-7a2a-48af-8485-1493b53b4d54",
   "metadata": {
    "jp-MarkdownHeadingCollapsed": true
   },
   "source": [
    "# Lien entre \"rangs\" au sein d'une même industrie (plus utilisé)"
   ]
  },
  {
   "cell_type": "markdown",
   "id": "dc81669d-b169-4973-8075-a39b3d44fdd2",
   "metadata": {},
   "source": [
    "On va regarder si on peut mettre en évidence un lien entre être bon en \"gender_pay_gap\" et être bon en \"scope_1\" au sein d'une même industrie. Pour cela, on va classer chaque entreprise au sein de son secteur : premièrement en fonction du \"gender_pay_gap\" et deuxièmement en fonction de ses émissions dans le scope le plus pertinent pour son secteur. Ce scope pertinent sera pris comme le scope où les émissions moyennes du secteur sont les plus importantes."
   ]
  },
  {
   "cell_type": "code",
   "execution_count": 149,
   "id": "b5a90c3d-9a8e-4933-a3d6-f5d52d5d0c9c",
   "metadata": {},
   "outputs": [
    {
     "name": "stdout",
     "output_type": "stream",
     "text": [
      "primary_industry\n",
      "Advertising                            scope_3_per_capita\n",
      "Aerospace and Defense                  scope_3_per_capita\n",
      "Agricultural Products                  scope_3_per_capita\n",
      "Agricultural and Farm Machinery        scope_3_per_capita\n",
      "Air Freight and Logistics              scope_1_per_capita\n",
      "                                              ...        \n",
      "Tobacco                                scope_3_per_capita\n",
      "Trading Companies and Distributors     scope_3_per_capita\n",
      "Trucking                               scope_3_per_capita\n",
      "Water Utilities                        scope_1_per_capita\n",
      "Wireless Telecommunication Services    scope_3_per_capita\n",
      "Length: 151, dtype: object\n"
     ]
    },
    {
     "name": "stderr",
     "output_type": "stream",
     "text": [
      "/tmp/ipykernel_2885/654674767.py:2: FutureWarning: The behavior of DataFrame.idxmax with all-NA values, or any-NA and skipna=False, is deprecated. In a future version this will raise ValueError\n",
      "  most_emitting_scope = sector_means.idxmax(axis=1)\n"
     ]
    }
   ],
   "source": [
    "sector_means = df.groupby('primary_industry').agg({'scope_1_per_capita': 'mean', 'scope_2_per_capita': 'mean', 'scope_3_per_capita': 'mean'})\n",
    "most_emitting_scope = sector_means.idxmax(axis=1)\n",
    "\n",
    "nan_industries = most_emitting_scope.isna()\n",
    "most_emitting_scope = most_emitting_scope.dropna()\n",
    "\n",
    "print(most_emitting_scope)"
   ]
  },
  {
   "cell_type": "code",
   "execution_count": 150,
   "id": "12be1b99-3994-4c97-a6ae-888f834469e9",
   "metadata": {},
   "outputs": [],
   "source": [
    "df3 = df\n",
    "\n",
    "# On enlève toutes les entreprises venant d'un secteur où l'on a pas pu déterminer le \"most_emitting_scope\"\n",
    "def nan_industry(row) :\n",
    "    return nan_industries[row[\"primary_industry\"]]\n",
    "\n",
    "df3[\"nan_industry\"] = df3.apply(nan_industry, axis = 1)\n",
    "idx = df3.loc[df3[\"nan_industry\"] == True].index.to_list()\n",
    "df3 = df3.drop(index = idx)\n",
    "df3 = df3.drop(columns = [\"nan_industry\"])"
   ]
  },
  {
   "cell_type": "code",
   "execution_count": 151,
   "id": "e3a02f2b-8807-4835-8d6a-3b3bcb51227a",
   "metadata": {},
   "outputs": [
    {
     "data": {
      "text/html": [
       "<div>\n",
       "<style scoped>\n",
       "    .dataframe tbody tr th:only-of-type {\n",
       "        vertical-align: middle;\n",
       "    }\n",
       "\n",
       "    .dataframe tbody tr th {\n",
       "        vertical-align: top;\n",
       "    }\n",
       "\n",
       "    .dataframe thead th {\n",
       "        text-align: right;\n",
       "    }\n",
       "</style>\n",
       "<table border=\"1\" class=\"dataframe\">\n",
       "  <thead>\n",
       "    <tr style=\"text-align: right;\">\n",
       "      <th></th>\n",
       "      <th>company_id</th>\n",
       "      <th>year</th>\n",
       "      <th>company_name</th>\n",
       "      <th>ticker</th>\n",
       "      <th>LEI</th>\n",
       "      <th>isin</th>\n",
       "      <th>Business Desc.</th>\n",
       "      <th>region</th>\n",
       "      <th>hq_country</th>\n",
       "      <th>primary_industry</th>\n",
       "      <th>...</th>\n",
       "      <th>water_consumption_per_capita</th>\n",
       "      <th>water_withdrawal_per_capita</th>\n",
       "      <th>energy_consumption_per_capita</th>\n",
       "      <th>hours_of_training</th>\n",
       "      <th>independent_board_members_percentage</th>\n",
       "      <th>legal_costs_paid_for_controversies</th>\n",
       "      <th>ceo_compensation</th>\n",
       "      <th>gender_pay_gap</th>\n",
       "      <th>missing</th>\n",
       "      <th>most_emitting_scope</th>\n",
       "    </tr>\n",
       "  </thead>\n",
       "  <tbody>\n",
       "    <tr>\n",
       "      <th>0</th>\n",
       "      <td>c67ee84d-5cf4-4cd0-85b9-027ad082748f</td>\n",
       "      <td>2020</td>\n",
       "      <td>Apple Inc.</td>\n",
       "      <td>NasdaqGS:AAPL</td>\n",
       "      <td>HWUPKR0MPOU8FGXBT394</td>\n",
       "      <td>US0378331005</td>\n",
       "      <td>Apple Inc. designs, manufactures, and markets ...</td>\n",
       "      <td>United States and Canada</td>\n",
       "      <td>United States</td>\n",
       "      <td>Technology Hardware, Storage and Peripherals</td>\n",
       "      <td>...</td>\n",
       "      <td>33.163265</td>\n",
       "      <td>33.163265</td>\n",
       "      <td>20.538571</td>\n",
       "      <td>NaN</td>\n",
       "      <td>0.008571</td>\n",
       "      <td>0.00</td>\n",
       "      <td>14769259.0</td>\n",
       "      <td>NaN</td>\n",
       "      <td>1.0</td>\n",
       "      <td>153.401361</td>\n",
       "    </tr>\n",
       "    <tr>\n",
       "      <th>1</th>\n",
       "      <td>c67ee84d-5cf4-4cd0-85b9-027ad082748f</td>\n",
       "      <td>2019</td>\n",
       "      <td>Apple Inc.</td>\n",
       "      <td>NasdaqGS:AAPL</td>\n",
       "      <td>HWUPKR0MPOU8FGXBT394</td>\n",
       "      <td>US0378331005</td>\n",
       "      <td>Apple Inc. designs, manufactures, and markets ...</td>\n",
       "      <td>United States and Canada</td>\n",
       "      <td>United States</td>\n",
       "      <td>Technology Hardware, Storage and Peripherals</td>\n",
       "      <td>...</td>\n",
       "      <td>35.694537</td>\n",
       "      <td>36.441053</td>\n",
       "      <td>21.092555</td>\n",
       "      <td>NaN</td>\n",
       "      <td>0.008571</td>\n",
       "      <td>1.85</td>\n",
       "      <td>11555466.0</td>\n",
       "      <td>NaN</td>\n",
       "      <td>1.0</td>\n",
       "      <td>182.335766</td>\n",
       "    </tr>\n",
       "    <tr>\n",
       "      <th>2</th>\n",
       "      <td>c67ee84d-5cf4-4cd0-85b9-027ad082748f</td>\n",
       "      <td>2018</td>\n",
       "      <td>Apple Inc.</td>\n",
       "      <td>NasdaqGS:AAPL</td>\n",
       "      <td>HWUPKR0MPOU8FGXBT394</td>\n",
       "      <td>US0378331005</td>\n",
       "      <td>Apple Inc. designs, manufactures, and markets ...</td>\n",
       "      <td>United States and Canada</td>\n",
       "      <td>United States</td>\n",
       "      <td>Technology Hardware, Storage and Peripherals</td>\n",
       "      <td>...</td>\n",
       "      <td>36.099633</td>\n",
       "      <td>37.304867</td>\n",
       "      <td>20.276212</td>\n",
       "      <td>NaN</td>\n",
       "      <td>0.008750</td>\n",
       "      <td>NaN</td>\n",
       "      <td>15682219.0</td>\n",
       "      <td>NaN</td>\n",
       "      <td>1.0</td>\n",
       "      <td>189.924242</td>\n",
       "    </tr>\n",
       "    <tr>\n",
       "      <th>3</th>\n",
       "      <td>9ea5e71e-33ac-4916-9c58-50ce9fa54abe</td>\n",
       "      <td>2020</td>\n",
       "      <td>Saudi Arabian Oil Company</td>\n",
       "      <td>SASE:2222</td>\n",
       "      <td>5586006WD91QHB7J4X50</td>\n",
       "      <td>SA14TG012N13</td>\n",
       "      <td>Saudi Arabian Oil Company operates as an integ...</td>\n",
       "      <td>Africa / Middle East</td>\n",
       "      <td>Saudi Arabia</td>\n",
       "      <td>Integrated Oil and Gas</td>\n",
       "      <td>...</td>\n",
       "      <td>541.167665</td>\n",
       "      <td>541.167665</td>\n",
       "      <td>2238.982036</td>\n",
       "      <td>NaN</td>\n",
       "      <td>0.454540</td>\n",
       "      <td>0.00</td>\n",
       "      <td>NaN</td>\n",
       "      <td>NaN</td>\n",
       "      <td>1.0</td>\n",
       "      <td>28097.683982</td>\n",
       "    </tr>\n",
       "    <tr>\n",
       "      <th>6</th>\n",
       "      <td>0fc16315-00da-4223-9cd5-0b09f6274aeb</td>\n",
       "      <td>2020</td>\n",
       "      <td>Microsoft Corporation</td>\n",
       "      <td>NasdaqGS:MSFT</td>\n",
       "      <td>INR2EJN1ERAN0W5ZP974</td>\n",
       "      <td>US5949181045</td>\n",
       "      <td>Microsoft Corporation develops, licenses, and ...</td>\n",
       "      <td>United States and Canada</td>\n",
       "      <td>United States</td>\n",
       "      <td>Systems Software</td>\n",
       "      <td>...</td>\n",
       "      <td>24.335214</td>\n",
       "      <td>46.043442</td>\n",
       "      <td>65.995092</td>\n",
       "      <td>NaN</td>\n",
       "      <td>0.916670</td>\n",
       "      <td>0.00</td>\n",
       "      <td>NaN</td>\n",
       "      <td>NaN</td>\n",
       "      <td>1.0</td>\n",
       "      <td>66.366871</td>\n",
       "    </tr>\n",
       "  </tbody>\n",
       "</table>\n",
       "<p>5 rows × 28 columns</p>\n",
       "</div>"
      ],
      "text/plain": [
       "                             company_id  year               company_name  \\\n",
       "0  c67ee84d-5cf4-4cd0-85b9-027ad082748f  2020                 Apple Inc.   \n",
       "1  c67ee84d-5cf4-4cd0-85b9-027ad082748f  2019                 Apple Inc.   \n",
       "2  c67ee84d-5cf4-4cd0-85b9-027ad082748f  2018                 Apple Inc.   \n",
       "3  9ea5e71e-33ac-4916-9c58-50ce9fa54abe  2020  Saudi Arabian Oil Company   \n",
       "6  0fc16315-00da-4223-9cd5-0b09f6274aeb  2020      Microsoft Corporation   \n",
       "\n",
       "          ticker                   LEI          isin  \\\n",
       "0  NasdaqGS:AAPL  HWUPKR0MPOU8FGXBT394  US0378331005   \n",
       "1  NasdaqGS:AAPL  HWUPKR0MPOU8FGXBT394  US0378331005   \n",
       "2  NasdaqGS:AAPL  HWUPKR0MPOU8FGXBT394  US0378331005   \n",
       "3      SASE:2222  5586006WD91QHB7J4X50  SA14TG012N13   \n",
       "6  NasdaqGS:MSFT  INR2EJN1ERAN0W5ZP974  US5949181045   \n",
       "\n",
       "                                      Business Desc.  \\\n",
       "0  Apple Inc. designs, manufactures, and markets ...   \n",
       "1  Apple Inc. designs, manufactures, and markets ...   \n",
       "2  Apple Inc. designs, manufactures, and markets ...   \n",
       "3  Saudi Arabian Oil Company operates as an integ...   \n",
       "6  Microsoft Corporation develops, licenses, and ...   \n",
       "\n",
       "                     region     hq_country  \\\n",
       "0  United States and Canada  United States   \n",
       "1  United States and Canada  United States   \n",
       "2  United States and Canada  United States   \n",
       "3      Africa / Middle East   Saudi Arabia   \n",
       "6  United States and Canada  United States   \n",
       "\n",
       "                               primary_industry  ...  \\\n",
       "0  Technology Hardware, Storage and Peripherals  ...   \n",
       "1  Technology Hardware, Storage and Peripherals  ...   \n",
       "2  Technology Hardware, Storage and Peripherals  ...   \n",
       "3                        Integrated Oil and Gas  ...   \n",
       "6                              Systems Software  ...   \n",
       "\n",
       "   water_consumption_per_capita  water_withdrawal_per_capita  \\\n",
       "0                     33.163265                    33.163265   \n",
       "1                     35.694537                    36.441053   \n",
       "2                     36.099633                    37.304867   \n",
       "3                    541.167665                   541.167665   \n",
       "6                     24.335214                    46.043442   \n",
       "\n",
       "   energy_consumption_per_capita  hours_of_training  \\\n",
       "0                      20.538571                NaN   \n",
       "1                      21.092555                NaN   \n",
       "2                      20.276212                NaN   \n",
       "3                    2238.982036                NaN   \n",
       "6                      65.995092                NaN   \n",
       "\n",
       "   independent_board_members_percentage  legal_costs_paid_for_controversies  \\\n",
       "0                              0.008571                                0.00   \n",
       "1                              0.008571                                1.85   \n",
       "2                              0.008750                                 NaN   \n",
       "3                              0.454540                                0.00   \n",
       "6                              0.916670                                0.00   \n",
       "\n",
       "   ceo_compensation  gender_pay_gap  missing  most_emitting_scope  \n",
       "0        14769259.0             NaN      1.0           153.401361  \n",
       "1        11555466.0             NaN      1.0           182.335766  \n",
       "2        15682219.0             NaN      1.0           189.924242  \n",
       "3               NaN             NaN      1.0         28097.683982  \n",
       "6               NaN             NaN      1.0            66.366871  \n",
       "\n",
       "[5 rows x 28 columns]"
      ]
     },
     "execution_count": 151,
     "metadata": {},
     "output_type": "execute_result"
    }
   ],
   "source": [
    "def most_emitting_scope_function(row) :\n",
    "    return row[most_emitting_scope[row['primary_industry']]]\n",
    "\n",
    "df3['most_emitting_scope'] = df3.apply(most_emitting_scope_function, axis = 1)\n",
    "df3 = df3.dropna(subset=['most_emitting_scope'])\n",
    "df3.head(5)"
   ]
  },
  {
   "cell_type": "code",
   "execution_count": 152,
   "id": "2ec7e713-8dcd-45cc-8a6e-88fb705e23cf",
   "metadata": {},
   "outputs": [
    {
     "name": "stderr",
     "output_type": "stream",
     "text": [
      "/tmp/ipykernel_2885/2897180220.py:5: UserWarning: Ignoring `palette` because no `hue` variable has been assigned.\n",
      "  sns.scatterplot(x = 'rank_emissions', y = 'rank_gender', data = df3, palette='viridis', s=100)\n"
     ]
    },
    {
     "data": {
      "text/plain": [
       "Text(0.5, 1.0, \"Relation entre rang d'émissions et de gender_pay_gap au sein d'une même industrie\")"
      ]
     },
     "execution_count": 152,
     "metadata": {},
     "output_type": "execute_result"
    },
    {
     "data": {
      "image/png": "[encoded data removed]",
      "text/plain": [
       "<Figure size 640x480 with 1 Axes>"
      ]
     },
     "metadata": {},
     "output_type": "display_data"
    }
   ],
   "source": [
    "df3['rank_gender'] = df3.groupby(['primary_industry', 'year'])['gender_pay_gap'].rank(ascending=False)\n",
    "df3['rank_emissions'] = df3.groupby(['primary_industry', 'year'])['most_emitting_scope'].rank(ascending=False)\n",
    "df3 = df3.dropna(subset = ['rank_gender', 'rank_emissions'])\n",
    "\n",
    "sns.scatterplot(x = 'rank_emissions', y = 'rank_gender', data = df3, palette='viridis', s=100)\n",
    "plt.title(\"Relation entre rang d'émissions et de gender_pay_gap au sein d'une même industrie\")"
   ]
  },
  {
   "cell_type": "markdown",
   "id": "0e14771e-4f30-4b81-8a63-14adeda76470",
   "metadata": {},
   "source": [
    "On effectue une régression en contrôlant de nouveau sur la région et l'année."
   ]
  },
  {
   "cell_type": "code",
   "execution_count": 153,
   "id": "254c2443-8be7-4e73-bb48-fa53e98d3874",
   "metadata": {},
   "outputs": [
    {
     "name": "stdout",
     "output_type": "stream",
     "text": [
      "                            OLS Regression Results                            \n",
      "==============================================================================\n",
      "Dep. Variable:            rank_gender   R-squared:                       0.467\n",
      "Model:                            OLS   Adj. R-squared:                  0.245\n",
      "Method:                 Least Squares   F-statistic:                     2.101\n",
      "Date:                Wed, 14 Feb 2024   Prob (F-statistic):           6.77e-06\n",
      "Time:                        12:55:21   Log-Likelihood:                -458.36\n",
      "No. Observations:                 303   AIC:                             1097.\n",
      "Df Residuals:                     213   BIC:                             1431.\n",
      "Df Model:                          89                                         \n",
      "Covariance Type:            nonrobust                                         \n",
      "===================================================================================================================================\n",
      "                                                                      coef    std err          t      P>|t|      [0.025      0.975]\n",
      "-----------------------------------------------------------------------------------------------------------------------------------\n",
      "const                                                               0.3881      1.436      0.270      0.787      -2.443       3.219\n",
      "rank_emissions                                                     -0.0067      0.004     -1.646      0.101      -0.015       0.001\n",
      "region_Asia / Pacific                                               0.5202      1.275      0.408      0.684      -1.993       3.033\n",
      "region_Europe                                                       0.4451      1.212      0.367      0.714      -1.944       2.834\n",
      "region_Latin America and Caribbean                                 -0.5319      1.434     -0.371      0.711      -3.359       2.296\n",
      "region_United States and Canada                                     1.0722      1.212      0.885      0.377      -1.317       3.461\n",
      "year_2019                                                           0.1454      0.262      0.554      0.580      -0.372       0.662\n",
      "year_2020                                                           1.3095      0.248      5.270      0.000       0.820       1.799\n",
      "primary_industry_Aerospace and Defense                              1.1664      0.962      1.212      0.227      -0.730       3.063\n",
      "primary_industry_Air Freight and Logistics                         -0.9219      1.513     -0.609      0.543      -3.905       2.061\n",
      "primary_industry_Alternative Carriers                              -1.0424      1.513     -0.689      0.492      -4.025       1.940\n",
      "primary_industry_Apparel Retail                                     0.0281      1.527      0.018      0.985      -2.982       3.039\n",
      "primary_industry_Apparel, Accessories and Luxury Goods             -0.5691      1.197     -0.476      0.635      -2.928       1.790\n",
      "primary_industry_Application Software                               1.2451      1.102      1.129      0.260      -0.928       3.418\n",
      "primary_industry_Asset Management and Custody Banks                -0.4077      1.201     -0.339      0.735      -2.776       1.960\n",
      "primary_industry_Auto Parts and Equipment                          -0.2624      1.076     -0.244      0.808      -2.384       1.859\n",
      "primary_industry_Automobile Manufacturers                          -0.8538      1.135     -0.752      0.453      -3.091       1.384\n",
      "primary_industry_Biotechnology                                     -0.0722      1.614     -0.045      0.964      -3.254       3.110\n",
      "primary_industry_Brewers                                            0.5066      1.427      0.355      0.723      -2.306       3.319\n",
      "primary_industry_Broadcasting                                      -1.0022      1.513     -0.663      0.508      -3.984       1.979\n",
      "primary_industry_Building Products                                  0.4945      0.908      0.545      0.586      -1.295       2.284\n",
      "primary_industry_Cable and Satellite                               -1.0624      1.513     -0.702      0.483      -4.045       1.920\n",
      "primary_industry_Casinos and Gaming                                -0.5565      1.213     -0.459      0.647      -2.948       1.835\n",
      "primary_industry_Coal and Consumable Fuels                         -0.9770      1.566     -0.624      0.533      -4.064       2.110\n",
      "primary_industry_Commodity Chemicals                               -1.1609      1.579     -0.735      0.463      -4.273       1.951\n",
      "primary_industry_Construction Materials                            -0.3550      1.199     -0.296      0.767      -2.719       2.009\n",
      "primary_industry_Construction and Engineering                       1.4194      1.018      1.395      0.164      -0.586       3.425\n",
      "primary_industry_Consumer Finance                                  -1.3617      1.562     -0.872      0.384      -4.441       1.718\n",
      "primary_industry_Data Processing and Outsourced Services            1.8401      0.838      2.195      0.029       0.188       3.493\n",
      "primary_industry_Diversified Chemicals                             -0.4110      1.201     -0.342      0.733      -2.779       1.957\n",
      "primary_industry_Diversified Metals and Mining                     -0.2680      1.010     -0.265      0.791      -2.260       1.724\n",
      "primary_industry_Diversified Real Estate Activities                -0.8483      1.515     -0.560      0.576      -3.836       2.139\n",
      "primary_industry_Diversified Support Services                      -0.4888      1.196     -0.409      0.683      -2.846       1.868\n",
      "primary_industry_Electric Utilities                                 2.6296      0.829      3.171      0.002       0.995       4.264\n",
      "primary_industry_Electrical Components and Equipment               -1.0022      1.513     -0.663      0.508      -3.984       1.979\n",
      "primary_industry_Electronic Components                             -0.6960      1.576     -0.441      0.659      -3.803       2.411\n",
      "primary_industry_Electronic Equipment and Instruments              -0.3609      1.202     -0.300      0.764      -2.730       2.008\n",
      "primary_industry_Environmental and Facilities Services             -0.5190      1.196     -0.434      0.665      -2.876       1.838\n",
      "primary_industry_Fertilizers and Agricultural Chemicals            -0.5237      1.938     -0.270      0.787      -4.344       3.297\n",
      "primary_industry_Financial Exchanges and Data                      -0.3659      1.008     -0.363      0.717      -2.354       1.622\n",
      "primary_industry_Food Retail                                        0.6912      0.892      0.775      0.439      -1.067       2.450\n",
      "primary_industry_Gas Utilities                                     -0.5190      1.196     -0.434      0.665      -2.876       1.838\n",
      "primary_industry_Gold                                               0.2630      1.214      0.217      0.829      -2.131       2.657\n",
      "primary_industry_Health Care Supplies                              -0.4487      1.196     -0.375      0.708      -2.807       1.909\n",
      "primary_industry_Health Care Technology                            -0.9955      1.513     -0.658      0.511      -3.977       1.986\n",
      "primary_industry_Homebuilding                                       1.5889      0.857      1.854      0.065      -0.101       3.278\n",
      "primary_industry_Hotels, Resorts and Cruise Lines                  -0.9487      1.513     -0.627      0.531      -3.931       2.034\n",
      "primary_industry_Household Products                                -0.2803      1.076     -0.260      0.795      -2.401       1.841\n",
      "primary_industry_Human Resource and Employment Services            -0.2001      1.076     -0.186      0.853      -2.322       1.922\n",
      "primary_industry_IT Consulting and Other Services                   1.0778      0.883      1.221      0.224      -0.663       2.818\n",
      "primary_industry_Independent Power Producers and Energy Traders    -0.2424      1.076     -0.225      0.822      -2.364       1.879\n",
      "primary_industry_Industrial Machinery                               0.5592      0.985      0.567      0.571      -1.383       2.502\n",
      "primary_industry_Integrated Oil and Gas                            -0.2492      1.005     -0.248      0.804      -2.230       1.731\n",
      "primary_industry_Integrated Telecommunication Services              1.6750      0.852      1.965      0.051      -0.005       3.355\n",
      "primary_industry_Interactive Home Entertainment                    -0.8885      1.514     -0.587      0.558      -3.873       2.096\n",
      "primary_industry_Interactive Media and Services                     0.5082      0.960      0.529      0.597      -1.384       2.400\n",
      "primary_industry_Internet and Direct Marketing Retail              -0.8015      1.517     -0.528      0.598      -3.793       2.190\n",
      "primary_industry_Life Sciences Tools and Services                  -1.4353      1.559     -0.921      0.358      -4.508       1.637\n",
      "primary_industry_Life and Health Insurance                          0.5144      0.893      0.576      0.565      -1.246       2.275\n",
      "primary_industry_Multi-Utilities                                    0.0809      0.946      0.086      0.932      -1.783       1.945\n",
      "primary_industry_Multi-line Insurance                               1.2595      0.879      1.433      0.153      -0.473       2.991\n",
      "primary_industry_Oil and Gas Equipment and Services                 0.0045      1.070      0.004      0.997      -2.104       2.113\n",
      "primary_industry_Oil and Gas Exploration and Production            -0.1676      1.085     -0.154      0.877      -2.307       1.971\n",
      "primary_industry_Oil and Gas Refining and Marketing                 0.1034      1.288      0.080      0.936      -2.434       2.641\n",
      "primary_industry_Oil and Gas Storage and Transportation             1.0853      1.712      0.634      0.527      -2.290       4.460\n",
      "primary_industry_Other Diversified Financial Services              -0.5138      1.200     -0.428      0.669      -2.880       1.852\n",
      "primary_industry_Packaged Foods and Meats                           0.0515      1.098      0.047      0.963      -2.112       2.215\n",
      "primary_industry_Paper Packaging                                   -1.1294      1.515     -0.746      0.457      -4.115       1.856\n",
      "primary_industry_Paper Products                                     0.4562      1.113      0.410      0.682      -1.738       2.650\n",
      "primary_industry_Personal Products                                 -0.2669      1.076     -0.248      0.804      -2.388       1.854\n",
      "primary_industry_Pharmaceuticals                                    0.0112      1.070      0.010      0.992      -2.097       2.120\n",
      "primary_industry_Property and Casualty Insurance                    1.0623      0.884      1.202      0.231      -0.680       2.805\n",
      "primary_industry_Publishing                                        -0.2714      1.076     -0.252      0.801      -2.393       1.850\n",
      "primary_industry_Real Estate Development                           -0.9086      1.514     -0.600      0.549      -3.892       2.075\n",
      "primary_industry_Real Estate Operating Companies                    1.2812      0.881      1.455      0.147      -0.455       3.017\n",
      "primary_industry_Renewable Electricity                             -0.3064      1.152     -0.266      0.791      -2.577       1.964\n",
      "primary_industry_Research and Consulting Services                   0.6003      0.892      0.673      0.502      -1.158       2.359\n",
      "primary_industry_Restaurants                                       -0.2055      1.083     -0.190      0.850      -2.341       1.930\n",
      "primary_industry_Semiconductor Equipment                           -0.3768      1.072     -0.351      0.726      -2.490       1.737\n",
      "primary_industry_Semiconductors                                    -0.6485      1.213     -0.535      0.594      -3.040       1.743\n",
      "primary_industry_Soft Drinks                                       -1.6293      1.556     -1.047      0.296      -4.695       1.437\n",
      "primary_industry_Specialty Chemicals                                1.2574      0.858      1.465      0.144      -0.434       2.949\n",
      "primary_industry_Specialty Stores                                  -0.1271      1.006     -0.126      0.900      -2.110       1.855\n",
      "primary_industry_Steel                                             -0.5472      1.537     -0.356      0.722      -3.578       2.483\n",
      "primary_industry_Systems Software                                  -0.7074      1.069     -0.661      0.509      -2.815       1.401\n",
      "primary_industry_Thrifts and Mortgage Finance                      -0.8885      1.514     -0.587      0.558      -3.873       2.096\n",
      "primary_industry_Tobacco                                           -1.1509      1.254     -0.918      0.360      -3.622       1.320\n",
      "primary_industry_Trading Companies and Distributors                -1.1026      1.514     -0.728      0.467      -4.087       1.882\n",
      "primary_industry_Water Utilities                                    0.0357      0.963      0.037      0.970      -1.862       1.933\n",
      "primary_industry_Wireless Telecommunication Services                0.2496      1.618      0.154      0.878      -2.940       3.439\n",
      "==============================================================================\n",
      "Omnibus:                       13.684   Durbin-Watson:                   1.640\n",
      "Prob(Omnibus):                  0.001   Jarque-Bera (JB):               18.646\n",
      "Skew:                           0.353   Prob(JB):                     8.93e-05\n",
      "Kurtosis:                       3.990   Cond. No.                     3.88e+03\n",
      "==============================================================================\n",
      "\n",
      "Notes:\n",
      "[1] Standard Errors assume that the covariance matrix of the errors is correctly specified.\n",
      "[2] The condition number is large, 3.88e+03. This might indicate that there are\n",
      "strong multicollinearity or other numerical problems.\n"
     ]
    }
   ],
   "source": [
    "# Régressions linéaires avec contrôle sur la région et l'année\n",
    "X = df3[['rank_emissions', 'region', 'year', 'primary_industry']]\n",
    "X = pd.get_dummies(X, columns=['region', 'year', 'primary_industry'], drop_first=True, dtype=float)\n",
    "X = sm.add_constant(X)\n",
    "\n",
    "y = df3['rank_gender']\n",
    "\n",
    "model = sm.OLS(y, X).fit()\n",
    "\n",
    "print(model.summary())"
   ]
  },
  {
   "cell_type": "markdown",
   "id": "ef4fb164-27de-4837-bfd0-e10ab4925b40",
   "metadata": {},
   "source": [
    "# Impact de la formation"
   ]
  },
  {
   "cell_type": "markdown",
   "id": "47b00ff4-e025-4e80-8c85-441288e636e4",
   "metadata": {},
   "source": [
    "On va faire des tests sur les heures de formation et les facteurs environnementaux et sociaux."
   ]
  },
  {
   "cell_type": "code",
   "execution_count": 147,
   "id": "49ef9ad0-101a-4e5e-9b01-9bab4c60fbff",
   "metadata": {},
   "outputs": [
    {
     "name": "stdout",
     "output_type": "stream",
     "text": [
      "                            OLS Regression Results                            \n",
      "==============================================================================\n",
      "Dep. Variable:         gender_pay_gap   R-squared:                       0.477\n",
      "Model:                            OLS   Adj. R-squared:                  0.229\n",
      "Method:                 Least Squares   F-statistic:                 1.072e+13\n",
      "Date:                Wed, 14 Feb 2024   Prob (F-statistic):           9.32e-14\n",
      "Time:                        12:53:13   Log-Likelihood:                -944.92\n",
      "No. Observations:                 268   AIC:                             2064.\n",
      "Df Residuals:                     181   BIC:                             2376.\n",
      "Df Model:                          86                                         \n",
      "Covariance Type:              cluster                                         \n",
      "===================================================================================================================================\n",
      "                                                                      coef    std err          z      P>|z|      [0.025      0.975]\n",
      "-----------------------------------------------------------------------------------------------------------------------------------\n",
      "const                                                              34.5963      2.130     16.243      0.000      30.422      38.771\n",
      "hours_of_training_per_capita                                       -0.0010      0.001     -1.301      0.193      -0.003       0.001\n"
     ]
    },
    {
     "name": "stderr",
     "output_type": "stream",
     "text": [
      "/tmp/ipykernel_2885/897556551.py:2: SettingWithCopyWarning: \n",
      "A value is trying to be set on a copy of a slice from a DataFrame.\n",
      "Try using .loc[row_indexer,col_indexer] = value instead\n",
      "\n",
      "See the caveats in the documentation: https://pandas.pydata.org/pandas-docs/stable/user_guide/indexing.html#returning-a-view-versus-a-copy\n",
      "  df4['hours_of_training_per_capita'] = df4['hours_of_training']/df4['employees']\n",
      "/opt/mamba/lib/python3.11/site-packages/statsmodels/base/model.py:1896: ValueWarning: covariance of constraints does not have full rank. The number of constraints is 86, but rank is 4\n",
      "  warnings.warn('covariance of constraints does not have full '\n"
     ]
    }
   ],
   "source": [
    "df4 = df.dropna(subset = ['gender_pay_gap', 'hours_of_training'])\n",
    "df4['hours_of_training_per_capita'] = df4['hours_of_training']/df4['employees']\n",
    "\n",
    "# Régressions linéaires avec contrôle sur la région et l'année\n",
    "X = df4[['hours_of_training_per_capita', 'region', 'year', 'primary_industry']]\n",
    "X = pd.get_dummies(X, columns=['region', 'year', 'primary_industry'], drop_first=True, dtype=float)\n",
    "X = sm.add_constant(X)\n",
    "\n",
    "mask = ~X.isin([np.nan, np.inf, -np.inf]).any(axis=1)\n",
    "X = X[mask]\n",
    "y = df4['gender_pay_gap'][mask]\n",
    "\n",
    "#model = sm.OLS(y, X).fit()\n",
    "\n",
    "model_clustered = sm.OLS(y, X).fit(cov_type='cluster',\n",
    "                                   cov_kwds={'groups': df4['year'][mask]})\n",
    "\n",
    "for line in model_clustered.summary().as_text().splitlines()[:16]:\n",
    "    print(line[:])"
   ]
  },
  {
   "cell_type": "code",
   "execution_count": 176,
   "id": "0a07fc7c-5bb6-43b9-91f6-3b2f4100c7ef",
   "metadata": {},
   "outputs": [],
   "source": [
    "df5 = df\n",
    "\n",
    "df5[\"nan_industry\"] = df5.apply(nan_industry, axis = 1)\n",
    "idx = df5.loc[df5[\"nan_industry\"] == True].index.to_list()\n",
    "df5 = df5.drop(index = idx)\n",
    "df5 = df5.drop(columns = [\"nan_industry\"])\n",
    "\n",
    "df5['most_emitting_scope'] = df5.apply(most_emitting_scope_function, axis = 1)\n",
    "df5 = df5.dropna(subset=['most_emitting_scope'])"
   ]
  },
  {
   "cell_type": "code",
   "execution_count": 183,
   "id": "df327c64-caf1-4198-ab6e-e1d8f948030a",
   "metadata": {},
   "outputs": [
    {
     "name": "stdout",
     "output_type": "stream",
     "text": [
      "                            OLS Regression Results                            \n",
      "==============================================================================\n",
      "Dep. Variable:     scope_1_per_capita   R-squared:                         nan\n",
      "Model:                            OLS   Adj. R-squared:                    nan\n",
      "Method:                 Least Squares   F-statistic:                       nan\n",
      "Date:                Wed, 14 Feb 2024   Prob (F-statistic):                nan\n",
      "Time:                        13:19:41   Log-Likelihood:                    nan\n",
      "No. Observations:                2974   AIC:                               nan\n",
      "Df Residuals:                    2821   BIC:                               nan\n",
      "Df Model:                         152                                         \n",
      "Covariance Type:            nonrobust                                         \n",
      "===================================================================================================================================\n",
      "                                                                      coef    std err          t      P>|t|      [0.025      0.975]\n",
      "-----------------------------------------------------------------------------------------------------------------------------------\n",
      "const                                                                  nan        nan        nan        nan         nan         nan\n",
      "hours_of_training_per_capita                                           nan        nan        nan        nan         nan         nan\n",
      "region_Asia / Pacific                                                  nan        nan        nan        nan         nan         nan\n",
      "region_Europe                                                          nan        nan        nan        nan         nan         nan\n",
      "region_Latin America and Caribbean                                     nan        nan        nan        nan         nan         nan\n",
      "region_United States and Canada                                        nan        nan        nan        nan         nan         nan\n",
      "year_2019                                                              nan        nan        nan        nan         nan         nan\n",
      "year_2020                                                              nan        nan        nan        nan         nan         nan\n",
      "primary_industry_Aerospace and Defense                                 nan        nan        nan        nan         nan         nan\n",
      "primary_industry_Agricultural Products                                 nan        nan        nan        nan         nan         nan\n",
      "primary_industry_Agricultural and Farm Machinery                       nan        nan        nan        nan         nan         nan\n",
      "primary_industry_Air Freight and Logistics                             nan        nan        nan        nan         nan         nan\n",
      "primary_industry_Airlines                                              nan        nan        nan        nan         nan         nan\n",
      "primary_industry_Airport Services                                      nan        nan        nan        nan         nan         nan\n",
      "primary_industry_Alternative Carriers                                  nan        nan        nan        nan         nan         nan\n",
      "primary_industry_Aluminum                                              nan        nan        nan        nan         nan         nan\n",
      "primary_industry_Apparel Retail                                        nan        nan        nan        nan         nan         nan\n",
      "primary_industry_Apparel, Accessories and Luxury Goods                 nan        nan        nan        nan         nan         nan\n",
      "primary_industry_Application Software                                  nan        nan        nan        nan         nan         nan\n",
      "primary_industry_Asset Management and Custody Banks                    nan        nan        nan        nan         nan         nan\n",
      "primary_industry_Auto Parts and Equipment                              nan        nan        nan        nan         nan         nan\n",
      "primary_industry_Automobile Manufacturers                              nan        nan        nan        nan         nan         nan\n",
      "primary_industry_Automotive Retail                                     nan        nan        nan        nan         nan         nan\n",
      "primary_industry_Biotechnology                                         nan        nan        nan        nan         nan         nan\n",
      "primary_industry_Brewers                                               nan        nan        nan        nan         nan         nan\n",
      "primary_industry_Broadcasting                                          nan        nan        nan        nan         nan         nan\n",
      "primary_industry_Building Products                                     nan        nan        nan        nan         nan         nan\n",
      "primary_industry_Cable and Satellite                                   nan        nan        nan        nan         nan         nan\n",
      "primary_industry_Casinos and Gaming                                    nan        nan        nan        nan         nan         nan\n",
      "primary_industry_Coal and Consumable Fuels                             nan        nan        nan        nan         nan         nan\n",
      "primary_industry_Commercial Printing                                   nan        nan        nan        nan         nan         nan\n",
      "primary_industry_Commodity Chemicals                                   nan        nan        nan        nan         nan         nan\n",
      "primary_industry_Communications Equipment                              nan        nan        nan        nan         nan         nan\n",
      "primary_industry_Computer and Electronics Retail                       nan        nan        nan        nan         nan         nan\n",
      "primary_industry_Construction Machinery and Heavy Trucks               nan        nan        nan        nan         nan         nan\n",
      "primary_industry_Construction Materials                                nan        nan        nan        nan         nan         nan\n",
      "primary_industry_Construction and Engineering                          nan        nan        nan        nan         nan         nan\n",
      "primary_industry_Consumer Electronics                                  nan        nan        nan        nan         nan         nan\n",
      "primary_industry_Consumer Finance                                      nan        nan        nan        nan         nan         nan\n",
      "primary_industry_Copper                                                nan        nan        nan        nan         nan         nan\n",
      "primary_industry_Data Processing and Outsourced Services               nan        nan        nan        nan         nan         nan\n",
      "primary_industry_Department Stores                                     nan        nan        nan        nan         nan         nan\n",
      "primary_industry_Distillers and Vintners                               nan        nan        nan        nan         nan         nan\n",
      "primary_industry_Distributors                                          nan        nan        nan        nan         nan         nan\n",
      "primary_industry_Diversified Banks                                     nan        nan        nan        nan         nan         nan\n",
      "primary_industry_Diversified Capital Markets                           nan        nan        nan        nan         nan         nan\n",
      "primary_industry_Diversified Chemicals                                 nan        nan        nan        nan         nan         nan\n",
      "primary_industry_Diversified Metals and Mining                         nan        nan        nan        nan         nan         nan\n",
      "primary_industry_Diversified Real Estate Activities                    nan        nan        nan        nan         nan         nan\n",
      "primary_industry_Diversified Support Services                          nan        nan        nan        nan         nan         nan\n",
      "primary_industry_Drug Retail                                           nan        nan        nan        nan         nan         nan\n",
      "primary_industry_Education Services                                    nan        nan        nan        nan         nan         nan\n",
      "primary_industry_Electric Utilities                                    nan        nan        nan        nan         nan         nan\n",
      "primary_industry_Electrical Components and Equipment                   nan        nan        nan        nan         nan         nan\n",
      "primary_industry_Electronic Components                                 nan        nan        nan        nan         nan         nan\n",
      "primary_industry_Electronic Equipment and Instruments                  nan        nan        nan        nan         nan         nan\n",
      "primary_industry_Electronic Manufacturing Services                     nan        nan        nan        nan         nan         nan\n",
      "primary_industry_Environmental and Facilities Services                 nan        nan        nan        nan         nan         nan\n",
      "primary_industry_Fertilizers and Agricultural Chemicals                nan        nan        nan        nan         nan         nan\n",
      "primary_industry_Financial Exchanges and Data                          nan        nan        nan        nan         nan         nan\n",
      "primary_industry_Food Distributors                                     nan        nan        nan        nan         nan         nan\n",
      "primary_industry_Food Retail                                           nan        nan        nan        nan         nan         nan\n",
      "primary_industry_Footwear                                              nan        nan        nan        nan         nan         nan\n",
      "primary_industry_Forest Products                                       nan        nan        nan        nan         nan         nan\n",
      "primary_industry_Gas Utilities                                         nan        nan        nan        nan         nan         nan\n",
      "primary_industry_General Merchandise Stores                            nan        nan        nan        nan         nan         nan\n",
      "primary_industry_Gold                                                  nan        nan        nan        nan         nan         nan\n",
      "primary_industry_Health Care Distributors                              nan        nan        nan        nan         nan         nan\n",
      "primary_industry_Health Care Equipment                                 nan        nan        nan        nan         nan         nan\n",
      "primary_industry_Health Care Facilities                                nan        nan        nan        nan         nan         nan\n",
      "primary_industry_Health Care Services                                  nan        nan        nan        nan         nan         nan\n",
      "primary_industry_Health Care Supplies                                  nan        nan        nan        nan         nan         nan\n",
      "primary_industry_Health Care Technology                                nan        nan        nan        nan         nan         nan\n",
      "primary_industry_Heavy Electrical Equipment                            nan        nan        nan        nan         nan         nan\n",
      "primary_industry_Highways and Railtracks                               nan        nan        nan        nan         nan         nan\n",
      "primary_industry_Home Furnishings                                      nan        nan        nan        nan         nan         nan\n",
      "primary_industry_Home Improvement Retail                               nan        nan        nan        nan         nan         nan\n",
      "primary_industry_Homebuilding                                          nan        nan        nan        nan         nan         nan\n",
      "primary_industry_Homefurnishing Retail                                 nan        nan        nan        nan         nan         nan\n",
      "primary_industry_Hotels, Resorts and Cruise Lines                      nan        nan        nan        nan         nan         nan\n",
      "primary_industry_Household Appliances                                  nan        nan        nan        nan         nan         nan\n",
      "primary_industry_Household Products                                    nan        nan        nan        nan         nan         nan\n",
      "primary_industry_Housewares and Specialties                            nan        nan        nan        nan         nan         nan\n",
      "primary_industry_Human Resource and Employment Services                nan        nan        nan        nan         nan         nan\n",
      "primary_industry_Hypermarkets and Super Centers                        nan        nan        nan        nan         nan         nan\n",
      "primary_industry_IT Consulting and Other Services                      nan        nan        nan        nan         nan         nan\n",
      "primary_industry_Independent Power Producers and Energy Traders        nan        nan        nan        nan         nan         nan\n",
      "primary_industry_Industrial Conglomerates                              nan        nan        nan        nan         nan         nan\n",
      "primary_industry_Industrial Gases                                      nan        nan        nan        nan         nan         nan\n",
      "primary_industry_Industrial Machinery                                  nan        nan        nan        nan         nan         nan\n",
      "primary_industry_Insurance Brokers                                     nan        nan        nan        nan         nan         nan\n",
      "primary_industry_Integrated Oil and Gas                                nan        nan        nan        nan         nan         nan\n",
      "primary_industry_Integrated Telecommunication Services                 nan        nan        nan        nan         nan         nan\n",
      "primary_industry_Interactive Home Entertainment                        nan        nan        nan        nan         nan         nan\n",
      "primary_industry_Interactive Media and Services                        nan        nan        nan        nan         nan         nan\n",
      "primary_industry_Internet Services and Infrastructure                  nan        nan        nan        nan         nan         nan\n",
      "primary_industry_Internet and Direct Marketing Retail                  nan        nan        nan        nan         nan         nan\n",
      "primary_industry_Investment Banking and Brokerage                      nan        nan        nan        nan         nan         nan\n",
      "primary_industry_Leisure Facilities                                    nan        nan        nan        nan         nan         nan\n",
      "primary_industry_Leisure Products                                      nan        nan        nan        nan         nan         nan\n",
      "primary_industry_Life Sciences Tools and Services                      nan        nan        nan        nan         nan         nan\n",
      "primary_industry_Life and Health Insurance                             nan        nan        nan        nan         nan         nan\n",
      "primary_industry_Managed Health Care                                   nan        nan        nan        nan         nan         nan\n",
      "primary_industry_Marine                                                nan        nan        nan        nan         nan         nan\n",
      "primary_industry_Marine Ports and Services                             nan        nan        nan        nan         nan         nan\n",
      "primary_industry_Metal and Glass Containers                            nan        nan        nan        nan         nan         nan\n",
      "primary_industry_Mortgage REITs                                        nan        nan        nan        nan         nan         nan\n",
      "primary_industry_Motorcycle Manufacturers                              nan        nan        nan        nan         nan         nan\n",
      "primary_industry_Movies and Entertainment                              nan        nan        nan        nan         nan         nan\n",
      "primary_industry_Multi-Sector Holdings                                 nan        nan        nan        nan         nan         nan\n",
      "primary_industry_Multi-Utilities                                       nan        nan        nan        nan         nan         nan\n",
      "primary_industry_Multi-line Insurance                                  nan        nan        nan        nan         nan         nan\n",
      "primary_industry_Office Services and Supplies                          nan        nan        nan        nan         nan         nan\n",
      "primary_industry_Oil and Gas Drilling                                  nan        nan        nan        nan         nan         nan\n",
      "primary_industry_Oil and Gas Equipment and Services                    nan        nan        nan        nan         nan         nan\n",
      "primary_industry_Oil and Gas Exploration and Production                nan        nan        nan        nan         nan         nan\n",
      "primary_industry_Oil and Gas Refining and Marketing                    nan        nan        nan        nan         nan         nan\n",
      "primary_industry_Oil and Gas Storage and Transportation                nan        nan        nan        nan         nan         nan\n",
      "primary_industry_Other Diversified Financial Services                  nan        nan        nan        nan         nan         nan\n",
      "primary_industry_Packaged Foods and Meats                              nan        nan        nan        nan         nan         nan\n",
      "primary_industry_Paper Packaging                                       nan        nan        nan        nan         nan         nan\n",
      "primary_industry_Paper Products                                        nan        nan        nan        nan         nan         nan\n",
      "primary_industry_Personal Products                                     nan        nan        nan        nan         nan         nan\n",
      "primary_industry_Pharmaceuticals                                       nan        nan        nan        nan         nan         nan\n",
      "primary_industry_Precious Metals and Minerals                          nan        nan        nan        nan         nan         nan\n",
      "primary_industry_Property and Casualty Insurance                       nan        nan        nan        nan         nan         nan\n",
      "primary_industry_Publishing                                            nan        nan        nan        nan         nan         nan\n",
      "primary_industry_Railroads                                             nan        nan        nan        nan         nan         nan\n",
      "primary_industry_Real Estate Development                               nan        nan        nan        nan         nan         nan\n",
      "primary_industry_Real Estate Operating Companies                       nan        nan        nan        nan         nan         nan\n",
      "primary_industry_Real Estate Services                                  nan        nan        nan        nan         nan         nan\n",
      "primary_industry_Regional Banks                                        nan        nan        nan        nan         nan         nan\n",
      "primary_industry_Reinsurance                                           nan        nan        nan        nan         nan         nan\n",
      "primary_industry_Renewable Electricity                                 nan        nan        nan        nan         nan         nan\n",
      "primary_industry_Research and Consulting Services                      nan        nan        nan        nan         nan         nan\n",
      "primary_industry_Restaurants                                           nan        nan        nan        nan         nan         nan\n",
      "primary_industry_Retail REITs                                          nan        nan        nan        nan         nan         nan\n",
      "primary_industry_Security and Alarm Services                           nan        nan        nan        nan         nan         nan\n",
      "primary_industry_Semiconductor Equipment                               nan        nan        nan        nan         nan         nan\n",
      "primary_industry_Semiconductors                                        nan        nan        nan        nan         nan         nan\n",
      "primary_industry_Silver                                                nan        nan        nan        nan         nan         nan\n",
      "primary_industry_Soft Drinks                                           nan        nan        nan        nan         nan         nan\n",
      "primary_industry_Specialized Consumer Services                         nan        nan        nan        nan         nan         nan\n",
      "primary_industry_Specialized Finance                                   nan        nan        nan        nan         nan         nan\n",
      "primary_industry_Specialty Chemicals                                   nan        nan        nan        nan         nan         nan\n",
      "primary_industry_Specialty Stores                                      nan        nan        nan        nan         nan         nan\n",
      "primary_industry_Steel                                                 nan        nan        nan        nan         nan         nan\n",
      "primary_industry_Systems Software                                      nan        nan        nan        nan         nan         nan\n",
      "primary_industry_Technology Distributors                               nan        nan        nan        nan         nan         nan\n",
      "primary_industry_Technology Hardware, Storage and Peripherals          nan        nan        nan        nan         nan         nan\n",
      "primary_industry_Textiles                                              nan        nan        nan        nan         nan         nan\n",
      "primary_industry_Thrifts and Mortgage Finance                          nan        nan        nan        nan         nan         nan\n",
      "primary_industry_Tires and Rubber                                      nan        nan        nan        nan         nan         nan\n",
      "primary_industry_Tobacco                                               nan        nan        nan        nan         nan         nan\n",
      "primary_industry_Trading Companies and Distributors                    nan        nan        nan        nan         nan         nan\n",
      "primary_industry_Trucking                                              nan        nan        nan        nan         nan         nan\n",
      "primary_industry_Water Utilities                                       nan        nan        nan        nan         nan         nan\n",
      "primary_industry_Wireless Telecommunication Services                   nan        nan        nan        nan         nan         nan\n",
      "==============================================================================\n",
      "Omnibus:                          nan   Durbin-Watson:                     nan\n",
      "Prob(Omnibus):                    nan   Jarque-Bera (JB):                  nan\n",
      "Skew:                             nan   Prob(JB):                          nan\n",
      "Kurtosis:                         nan   Cond. No.                     1.32e+20\n",
      "==============================================================================\n",
      "\n",
      "Notes:\n",
      "[1] Standard Errors assume that the covariance matrix of the errors is correctly specified.\n",
      "[2] The smallest eigenvalue is 5.5e-31. This might indicate that there are\n",
      "strong multicollinearity problems or that the design matrix is singular.\n"
     ]
    }
   ],
   "source": [
    "df5['hours_of_training_per_capita'] = df5['hours_of_training']/df5['employees']\n",
    "df5['sum_scope_per_capita'] = df5['scope_1_per_capita'] + df5['scope_2_per_capita'] + df5['scope_3_per_capita']\n",
    "\n",
    "# Régressions linéaires avec contrôle sur la région et l'année\n",
    "X = df5[['hours_of_training_per_capita', 'region', 'year', 'primary_industry']]\n",
    "X = pd.get_dummies(X, columns=['region', 'year', 'primary_industry'], drop_first=True, dtype=float)\n",
    "X = sm.add_constant(X)\n",
    "\n",
    "mask = ~X.isin([np.nan, np.inf, -np.inf]).any(axis=1)\n",
    "X = X[mask]\n",
    "y = df5['sum_scope_per_capita'][mask]\n",
    "\n",
    "model = sm.OLS(y, X).fit()\n",
    "\n",
    "#model_clustered = sm.OLS(y, X).fit(cov_type='cluster',\n",
    "                                   #cov_kwds={'groups': df5['year'][mask]})\n",
    "\n",
    "#for line in model_clustered.summary().as_text().splitlines()[:16]:\n",
    "    #print(line[:])\n",
    "\n",
    "print(model.summary())"
   ]
  },
  {
   "cell_type": "code",
   "execution_count": 165,
   "id": "8178be61-e71d-4a4d-bed3-cc8438ed2a04",
   "metadata": {},
   "outputs": [],
   "source": [
    "#print(df5['hours_of_training_per_capita'].dropna())"
   ]
  },
  {
   "cell_type": "markdown",
   "id": "97a35d7d-3dc8-4cb5-a528-656ea32c43a7",
   "metadata": {},
   "source": [
    "Je vais juste essayer de mettre en log les émissions."
   ]
  },
  {
   "cell_type": "code",
   "execution_count": 158,
   "id": "73d0380d-8f68-40e9-92c6-be7ce3fb58fa",
   "metadata": {},
   "outputs": [
    {
     "name": "stderr",
     "output_type": "stream",
     "text": [
      "/opt/mamba/lib/python3.11/site-packages/pandas/core/arraylike.py:399: RuntimeWarning: divide by zero encountered in log\n",
      "  result = getattr(ufunc, method)(*inputs, **kwargs)\n"
     ]
    },
    {
     "ename": "ValueError",
     "evalue": "r_matrix performs f_test for using dimensions that are asymptotically non-normal",
     "output_type": "error",
     "traceback": [
      "\u001b[0;31m---------------------------------------------------------------------------\u001b[0m",
      "\u001b[0;31mValueError\u001b[0m                                Traceback (most recent call last)",
      "Cell \u001b[0;32mIn[158], line 18\u001b[0m\n\u001b[1;32m     14\u001b[0m \u001b[38;5;66;03m#model = sm.OLS(y, X).fit()\u001b[39;00m\n\u001b[1;32m     16\u001b[0m model_clustered \u001b[38;5;241m=\u001b[39m sm\u001b[38;5;241m.\u001b[39mOLS(y, X)\u001b[38;5;241m.\u001b[39mfit(cov_type\u001b[38;5;241m=\u001b[39m\u001b[38;5;124m'\u001b[39m\u001b[38;5;124mcluster\u001b[39m\u001b[38;5;124m'\u001b[39m,\n\u001b[1;32m     17\u001b[0m                                    cov_kwds\u001b[38;5;241m=\u001b[39m{\u001b[38;5;124m'\u001b[39m\u001b[38;5;124mgroups\u001b[39m\u001b[38;5;124m'\u001b[39m: df5[\u001b[38;5;124m'\u001b[39m\u001b[38;5;124myear\u001b[39m\u001b[38;5;124m'\u001b[39m][mask]})\n\u001b[0;32m---> 18\u001b[0m \u001b[38;5;28mprint\u001b[39m(\u001b[43mmodel_clustered\u001b[49m\u001b[38;5;241;43m.\u001b[39;49m\u001b[43msummary\u001b[49m\u001b[43m(\u001b[49m\u001b[43m)\u001b[49m)\n",
      "File \u001b[0;32m/opt/mamba/lib/python3.11/site-packages/statsmodels/regression/linear_model.py:2778\u001b[0m, in \u001b[0;36mRegressionResults.summary\u001b[0;34m(self, yname, xname, title, alpha, slim)\u001b[0m\n\u001b[1;32m   2771\u001b[0m     top_left\u001b[38;5;241m.\u001b[39mappend((\u001b[38;5;124m'\u001b[39m\u001b[38;5;124mCovariance Type:\u001b[39m\u001b[38;5;124m'\u001b[39m, [\u001b[38;5;28mself\u001b[39m\u001b[38;5;241m.\u001b[39mcov_type]))\n\u001b[1;32m   2773\u001b[0m rsquared_type \u001b[38;5;241m=\u001b[39m \u001b[38;5;124m'\u001b[39m\u001b[38;5;124m'\u001b[39m \u001b[38;5;28;01mif\u001b[39;00m \u001b[38;5;28mself\u001b[39m\u001b[38;5;241m.\u001b[39mk_constant \u001b[38;5;28;01melse\u001b[39;00m \u001b[38;5;124m'\u001b[39m\u001b[38;5;124m (uncentered)\u001b[39m\u001b[38;5;124m'\u001b[39m\n\u001b[1;32m   2774\u001b[0m top_right \u001b[38;5;241m=\u001b[39m [(\u001b[38;5;124m'\u001b[39m\u001b[38;5;124mR-squared\u001b[39m\u001b[38;5;124m'\u001b[39m \u001b[38;5;241m+\u001b[39m rsquared_type \u001b[38;5;241m+\u001b[39m \u001b[38;5;124m'\u001b[39m\u001b[38;5;124m:\u001b[39m\u001b[38;5;124m'\u001b[39m,\n\u001b[1;32m   2775\u001b[0m               [\u001b[38;5;124m\"\u001b[39m\u001b[38;5;132;01m%#8.3f\u001b[39;00m\u001b[38;5;124m\"\u001b[39m \u001b[38;5;241m%\u001b[39m \u001b[38;5;28mself\u001b[39m\u001b[38;5;241m.\u001b[39mrsquared]),\n\u001b[1;32m   2776\u001b[0m              (\u001b[38;5;124m'\u001b[39m\u001b[38;5;124mAdj. R-squared\u001b[39m\u001b[38;5;124m'\u001b[39m \u001b[38;5;241m+\u001b[39m rsquared_type \u001b[38;5;241m+\u001b[39m \u001b[38;5;124m'\u001b[39m\u001b[38;5;124m:\u001b[39m\u001b[38;5;124m'\u001b[39m,\n\u001b[1;32m   2777\u001b[0m               [\u001b[38;5;124m\"\u001b[39m\u001b[38;5;132;01m%#8.3f\u001b[39;00m\u001b[38;5;124m\"\u001b[39m \u001b[38;5;241m%\u001b[39m \u001b[38;5;28mself\u001b[39m\u001b[38;5;241m.\u001b[39mrsquared_adj]),\n\u001b[0;32m-> 2778\u001b[0m              (\u001b[38;5;124m'\u001b[39m\u001b[38;5;124mF-statistic:\u001b[39m\u001b[38;5;124m'\u001b[39m, [\u001b[38;5;124m\"\u001b[39m\u001b[38;5;132;01m%#8.4g\u001b[39;00m\u001b[38;5;124m\"\u001b[39m \u001b[38;5;241m%\u001b[39m \u001b[38;5;28;43mself\u001b[39;49m\u001b[38;5;241;43m.\u001b[39;49m\u001b[43mfvalue\u001b[49m]),\n\u001b[1;32m   2779\u001b[0m              (\u001b[38;5;124m'\u001b[39m\u001b[38;5;124mProb (F-statistic):\u001b[39m\u001b[38;5;124m'\u001b[39m, [\u001b[38;5;124m\"\u001b[39m\u001b[38;5;132;01m%#6.3g\u001b[39;00m\u001b[38;5;124m\"\u001b[39m \u001b[38;5;241m%\u001b[39m \u001b[38;5;28mself\u001b[39m\u001b[38;5;241m.\u001b[39mf_pvalue]),\n\u001b[1;32m   2780\u001b[0m              (\u001b[38;5;124m'\u001b[39m\u001b[38;5;124mLog-Likelihood:\u001b[39m\u001b[38;5;124m'\u001b[39m, \u001b[38;5;28;01mNone\u001b[39;00m),\n\u001b[1;32m   2781\u001b[0m              (\u001b[38;5;124m'\u001b[39m\u001b[38;5;124mAIC:\u001b[39m\u001b[38;5;124m'\u001b[39m, [\u001b[38;5;124m\"\u001b[39m\u001b[38;5;132;01m%#8.4g\u001b[39;00m\u001b[38;5;124m\"\u001b[39m \u001b[38;5;241m%\u001b[39m \u001b[38;5;28mself\u001b[39m\u001b[38;5;241m.\u001b[39maic]),\n\u001b[1;32m   2782\u001b[0m              (\u001b[38;5;124m'\u001b[39m\u001b[38;5;124mBIC:\u001b[39m\u001b[38;5;124m'\u001b[39m, [\u001b[38;5;124m\"\u001b[39m\u001b[38;5;132;01m%#8.4g\u001b[39;00m\u001b[38;5;124m\"\u001b[39m \u001b[38;5;241m%\u001b[39m \u001b[38;5;28mself\u001b[39m\u001b[38;5;241m.\u001b[39mbic])\n\u001b[1;32m   2783\u001b[0m              ]\n\u001b[1;32m   2785\u001b[0m \u001b[38;5;28;01mif\u001b[39;00m slim:\n\u001b[1;32m   2786\u001b[0m     slimlist \u001b[38;5;241m=\u001b[39m [\u001b[38;5;124m'\u001b[39m\u001b[38;5;124mDep. Variable:\u001b[39m\u001b[38;5;124m'\u001b[39m, \u001b[38;5;124m'\u001b[39m\u001b[38;5;124mModel:\u001b[39m\u001b[38;5;124m'\u001b[39m, \u001b[38;5;124m'\u001b[39m\u001b[38;5;124mNo. Observations:\u001b[39m\u001b[38;5;124m'\u001b[39m,\n\u001b[1;32m   2787\u001b[0m                 \u001b[38;5;124m'\u001b[39m\u001b[38;5;124mCovariance Type:\u001b[39m\u001b[38;5;124m'\u001b[39m, \u001b[38;5;124m'\u001b[39m\u001b[38;5;124mR-squared:\u001b[39m\u001b[38;5;124m'\u001b[39m, \u001b[38;5;124m'\u001b[39m\u001b[38;5;124mAdj. R-squared:\u001b[39m\u001b[38;5;124m'\u001b[39m,\n\u001b[1;32m   2788\u001b[0m                 \u001b[38;5;124m'\u001b[39m\u001b[38;5;124mF-statistic:\u001b[39m\u001b[38;5;124m'\u001b[39m, \u001b[38;5;124m'\u001b[39m\u001b[38;5;124mProb (F-statistic):\u001b[39m\u001b[38;5;124m'\u001b[39m]\n",
      "File \u001b[0;32mproperties.pyx:36\u001b[0m, in \u001b[0;36mpandas._libs.properties.CachedProperty.__get__\u001b[0;34m()\u001b[0m\n",
      "File \u001b[0;32m/opt/mamba/lib/python3.11/site-packages/statsmodels/regression/linear_model.py:1865\u001b[0m, in \u001b[0;36mRegressionResults.fvalue\u001b[0;34m(self)\u001b[0m\n\u001b[1;32m   1863\u001b[0m     \u001b[38;5;28;01mif\u001b[39;00m mat\u001b[38;5;241m.\u001b[39msize \u001b[38;5;241m==\u001b[39m \u001b[38;5;241m0\u001b[39m:  \u001b[38;5;66;03m# see  #3642\u001b[39;00m\n\u001b[1;32m   1864\u001b[0m         \u001b[38;5;28;01mreturn\u001b[39;00m np\u001b[38;5;241m.\u001b[39mnan\n\u001b[0;32m-> 1865\u001b[0m ft \u001b[38;5;241m=\u001b[39m \u001b[38;5;28;43mself\u001b[39;49m\u001b[38;5;241;43m.\u001b[39;49m\u001b[43mf_test\u001b[49m\u001b[43m(\u001b[49m\u001b[43mmat\u001b[49m\u001b[43m)\u001b[49m\n\u001b[1;32m   1866\u001b[0m \u001b[38;5;66;03m# using backdoor to set another attribute that we already have\u001b[39;00m\n\u001b[1;32m   1867\u001b[0m \u001b[38;5;28mself\u001b[39m\u001b[38;5;241m.\u001b[39m_cache[\u001b[38;5;124m'\u001b[39m\u001b[38;5;124mf_pvalue\u001b[39m\u001b[38;5;124m'\u001b[39m] \u001b[38;5;241m=\u001b[39m \u001b[38;5;28mfloat\u001b[39m(ft\u001b[38;5;241m.\u001b[39mpvalue)\n",
      "File \u001b[0;32m/opt/mamba/lib/python3.11/site-packages/statsmodels/base/model.py:1786\u001b[0m, in \u001b[0;36mLikelihoodModelResults.f_test\u001b[0;34m(self, r_matrix, cov_p, invcov)\u001b[0m\n\u001b[1;32m   1693\u001b[0m \u001b[38;5;28;01mdef\u001b[39;00m \u001b[38;5;21mf_test\u001b[39m(\u001b[38;5;28mself\u001b[39m, r_matrix, cov_p\u001b[38;5;241m=\u001b[39m\u001b[38;5;28;01mNone\u001b[39;00m, invcov\u001b[38;5;241m=\u001b[39m\u001b[38;5;28;01mNone\u001b[39;00m):\n\u001b[1;32m   1694\u001b[0m \u001b[38;5;250m    \u001b[39m\u001b[38;5;124;03m\"\"\"\u001b[39;00m\n\u001b[1;32m   1695\u001b[0m \u001b[38;5;124;03m    Compute the F-test for a joint linear hypothesis.\u001b[39;00m\n\u001b[1;32m   1696\u001b[0m \n\u001b[0;32m   (...)\u001b[0m\n\u001b[1;32m   1784\u001b[0m \u001b[38;5;124;03m    <F test: F=array([[ 144.17976065]]), p=6.322026217355609e-08, df_denom=9, df_num=3>\u001b[39;00m\n\u001b[1;32m   1785\u001b[0m \u001b[38;5;124;03m    \"\"\"\u001b[39;00m\n\u001b[0;32m-> 1786\u001b[0m     res \u001b[38;5;241m=\u001b[39m \u001b[38;5;28;43mself\u001b[39;49m\u001b[38;5;241;43m.\u001b[39;49m\u001b[43mwald_test\u001b[49m\u001b[43m(\u001b[49m\u001b[43mr_matrix\u001b[49m\u001b[43m,\u001b[49m\u001b[43m \u001b[49m\u001b[43mcov_p\u001b[49m\u001b[38;5;241;43m=\u001b[39;49m\u001b[43mcov_p\u001b[49m\u001b[43m,\u001b[49m\u001b[43m \u001b[49m\u001b[43minvcov\u001b[49m\u001b[38;5;241;43m=\u001b[39;49m\u001b[43minvcov\u001b[49m\u001b[43m,\u001b[49m\u001b[43m \u001b[49m\u001b[43muse_f\u001b[49m\u001b[38;5;241;43m=\u001b[39;49m\u001b[38;5;28;43;01mTrue\u001b[39;49;00m\u001b[43m,\u001b[49m\u001b[43m \u001b[49m\u001b[43mscalar\u001b[49m\u001b[38;5;241;43m=\u001b[39;49m\u001b[38;5;28;43;01mTrue\u001b[39;49;00m\u001b[43m)\u001b[49m\n\u001b[1;32m   1787\u001b[0m     \u001b[38;5;28;01mreturn\u001b[39;00m res\n",
      "File \u001b[0;32m/opt/mamba/lib/python3.11/site-packages/statsmodels/base/model.py:1890\u001b[0m, in \u001b[0;36mLikelihoodModelResults.wald_test\u001b[0;34m(self, r_matrix, cov_p, invcov, use_f, df_constraints, scalar)\u001b[0m\n\u001b[1;32m   1888\u001b[0m cov_p \u001b[38;5;241m=\u001b[39m \u001b[38;5;28mself\u001b[39m\u001b[38;5;241m.\u001b[39mcov_params(r_matrix\u001b[38;5;241m=\u001b[39mr_matrix, cov_p\u001b[38;5;241m=\u001b[39mcov_p)\n\u001b[1;32m   1889\u001b[0m \u001b[38;5;28;01mif\u001b[39;00m np\u001b[38;5;241m.\u001b[39misnan(cov_p)\u001b[38;5;241m.\u001b[39mmax():\n\u001b[0;32m-> 1890\u001b[0m     \u001b[38;5;28;01mraise\u001b[39;00m \u001b[38;5;167;01mValueError\u001b[39;00m(\u001b[38;5;124m\"\u001b[39m\u001b[38;5;124mr_matrix performs f_test for using \u001b[39m\u001b[38;5;124m\"\u001b[39m\n\u001b[1;32m   1891\u001b[0m                      \u001b[38;5;124m\"\u001b[39m\u001b[38;5;124mdimensions that are asymptotically \u001b[39m\u001b[38;5;124m\"\u001b[39m\n\u001b[1;32m   1892\u001b[0m                      \u001b[38;5;124m\"\u001b[39m\u001b[38;5;124mnon-normal\u001b[39m\u001b[38;5;124m\"\u001b[39m)\n\u001b[1;32m   1893\u001b[0m invcov \u001b[38;5;241m=\u001b[39m np\u001b[38;5;241m.\u001b[39mlinalg\u001b[38;5;241m.\u001b[39mpinv(cov_p)\n\u001b[1;32m   1894\u001b[0m J_ \u001b[38;5;241m=\u001b[39m np\u001b[38;5;241m.\u001b[39mlinalg\u001b[38;5;241m.\u001b[39mmatrix_rank(cov_p)\n",
      "\u001b[0;31mValueError\u001b[0m: r_matrix performs f_test for using dimensions that are asymptotically non-normal"
     ]
    }
   ],
   "source": [
    "#df6 = df5.loc[df5['most_emitting_scope'] != 0]\n",
    "#df6['most_emitting_scope_log'] = np.log(df6['most_emitting_scope'])\n",
    "df5['sum_scope_per_capita_log'] = np.log(df5['sum_scope_per_capita'])\n",
    "\n",
    "# Régressions linéaires avec contrôle sur la région et l'année\n",
    "X = df5[['hours_of_training_per_capita', 'region', 'year', 'primary_industry']]\n",
    "X = pd.get_dummies(X, columns=['region', 'year', 'primary_industry'], drop_first=True, dtype=float)\n",
    "X = sm.add_constant(X)\n",
    "\n",
    "mask = ~X.isin([np.nan, np.inf, -np.inf]).any(axis=1)\n",
    "X = X[mask]\n",
    "y = df5['sum_scope_per_capita_log'][mask]\n",
    "\n",
    "#model = sm.OLS(y, X).fit()\n",
    "\n",
    "model_clustered = sm.OLS(y, X).fit(cov_type='cluster',\n",
    "                                   cov_kwds={'groups': df5['year'][mask]})\n",
    "print(model_clustered.summary())"
   ]
  },
  {
   "cell_type": "code",
   "execution_count": null,
   "id": "803c2b52-ccc8-4f5b-b91a-47df5f497c53",
   "metadata": {},
   "outputs": [],
   "source": []
  }
 ],
 "metadata": {
  "kernelspec": {
   "display_name": "Python 3 (ipykernel)",
   "language": "python",
   "name": "python3"
  },
  "language_info": {
   "codemirror_mode": {
    "name": "ipython",
    "version": 3
   },
   "file_extension": ".py",
   "mimetype": "text/x-python",
   "name": "python",
   "nbconvert_exporter": "python",
   "pygments_lexer": "ipython3",
   "version": "3.11.6"
  }
 },
 "nbformat": 4,
 "nbformat_minor": 5
}
