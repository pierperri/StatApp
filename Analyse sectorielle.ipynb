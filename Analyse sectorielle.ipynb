{
 "cells": [
  {
   "cell_type": "code",
   "execution_count": 1,
   "id": "950aee66-4b66-4b75-92fe-9f77ddcfcc77",
   "metadata": {},
   "outputs": [
    {
     "name": "stdout",
     "output_type": "stream",
     "text": [
      "Collecting openpyxl\n",
      "  Downloading openpyxl-3.1.2-py2.py3-none-any.whl.metadata (2.5 kB)\n",
      "Collecting et-xmlfile (from openpyxl)\n",
      "  Downloading et_xmlfile-1.1.0-py3-none-any.whl.metadata (1.8 kB)\n",
      "Downloading openpyxl-3.1.2-py2.py3-none-any.whl (249 kB)\n",
      "\u001b[2K   \u001b[90m━━━━━━━━━━━━━━━━━━━━━━━━━━━━━━━━━━━━━━━━\u001b[0m \u001b[32m250.0/250.0 kB\u001b[0m \u001b[31m18.6 MB/s\u001b[0m eta \u001b[36m0:00:00\u001b[0m\n",
      "\u001b[?25hDownloading et_xmlfile-1.1.0-py3-none-any.whl (4.7 kB)\n",
      "Installing collected packages: et-xmlfile, openpyxl\n",
      "Successfully installed et-xmlfile-1.1.0 openpyxl-3.1.2\n"
     ]
    }
   ],
   "source": [
    "!pip install openpyxl"
   ]
  },
  {
   "cell_type": "code",
   "execution_count": 2,
   "id": "4c8157c0-b923-419b-99fe-f6b203a39f20",
   "metadata": {},
   "outputs": [],
   "source": [
    "import pandas as pd\n",
    "import numpy as np\n",
    "import math\n",
    "import openpyxl\n",
    "import matplotlib.pyplot as plt"
   ]
  },
  {
   "cell_type": "code",
   "execution_count": 3,
   "id": "75ab1366-7525-44f0-be6c-869edc30135c",
   "metadata": {},
   "outputs": [],
   "source": [
    "file_path = \"data/ESG_raw_data_07_02.xlsx\"\n",
    "file_sect = \"data/secteurs.csv\"\n",
    "corresp_secteurs = pd.read_csv(file_sect, sep=\";\")\n",
    "data = pd.read_excel(file_path)\n",
    "data = data.join(corresp_secteurs.set_index('primary_industry'), on = \"primary_industry\")"
   ]
  },
  {
   "cell_type": "code",
   "execution_count": 4,
   "id": "c3bc2523-d81a-46b1-9f31-3a3ed28364ea",
   "metadata": {},
   "outputs": [],
   "source": [
    "secteurs = pd.unique(data[\"secteur\"])"
   ]
  },
  {
   "cell_type": "code",
   "execution_count": 5,
   "id": "06d2e378-7831-4ef6-83cf-5672b679f171",
   "metadata": {},
   "outputs": [],
   "source": [
    "variables_env = [\"scope_1\", \"scope_2\", \"scope_3\", \"waste_production\", \"waste_recycling\", \n",
    "                 \"water_consumption\", \"water_withdrawal\", \"energy_consumption\"]\n",
    "\n",
    "for v in variables_env :\n",
    "    data[v] = data[v]/data[\"employees\"]"
   ]
  },
  {
   "cell_type": "markdown",
   "id": "61ec1a76-e4b5-469a-867e-843b706dbdd7",
   "metadata": {},
   "source": [
    "## Scope 1\n",
    "\n",
    "On va analyser l'hétérogénéité intra-sectorielles pour le scope 1."
   ]
  },
  {
   "cell_type": "code",
   "execution_count": 21,
   "id": "588a5562-4e09-4069-b7f9-d777429b589b",
   "metadata": {},
   "outputs": [],
   "source": [
    "def visualisation(scope, sec, per) :\n",
    "    df = data.loc[data[\"secteur\"] == sec]\n",
    "    df = df.groupby('company_id')[scope].mean().reset_index()\n",
    "    mean = df[scope].mean()\n",
    "    var = df[scope].var()\n",
    "    list_companies = df[df[scope] >= mean*(1 + per)]\n",
    "    list_companies = list_companies[list_companies[scope] <= mean*(1 - per)]\n",
    "    df[scope] = df[scope]/np.sqrt(var)\n",
    "    df.hist(column = scope, bins = 100)\n"
   ]
  },
  {
   "cell_type": "code",
   "execution_count": 22,
   "id": "c0c49a33-60c0-4ee3-a662-6b9e45dda7d5",
   "metadata": {},
   "outputs": [
    {
     "data": {
      "image/png": "[encoded data removed]",
      "text/plain": [
       "<Figure size 640x480 with 1 Axes>"
      ]
     },
     "metadata": {},
     "output_type": "display_data"
    }
   ],
   "source": [
    "visualisation(\"scope_1\", secteurs[0], 1)"
   ]
  },
  {
   "cell_type": "code",
   "execution_count": null,
   "id": "883c2364-8d36-40bc-95a0-402f1fb04a8e",
   "metadata": {},
   "outputs": [],
   "source": []
  }
 ],
 "metadata": {
  "kernelspec": {
   "display_name": "Python 3 (ipykernel)",
   "language": "python",
   "name": "python3"
  },
  "language_info": {
   "codemirror_mode": {
    "name": "ipython",
    "version": 3
   },
   "file_extension": ".py",
   "mimetype": "text/x-python",
   "name": "python",
   "nbconvert_exporter": "python",
   "pygments_lexer": "ipython3",
   "version": "3.11.6"
  }
 },
 "nbformat": 4,
 "nbformat_minor": 5
}
